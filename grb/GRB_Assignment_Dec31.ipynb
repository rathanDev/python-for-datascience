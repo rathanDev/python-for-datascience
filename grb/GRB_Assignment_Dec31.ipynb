{
 "cells": [
  {
   "cell_type": "code",
   "execution_count": 18,
   "metadata": {},
   "outputs": [],
   "source": [
    "import matplotlib.pyplot as plt\n",
    "import pandas as pd\n",
    "import numpy as np\n",
    "import seaborn as sns\n",
    "%matplotlib inline"
   ]
  },
  {
   "cell_type": "code",
   "execution_count": 2,
   "metadata": {},
   "outputs": [],
   "source": [
    "df = pd.read_csv('grb_data.csv')"
   ]
  },
  {
   "cell_type": "code",
   "execution_count": 9,
   "metadata": {},
   "outputs": [
    {
     "data": {
      "text/html": [
       "<div>\n",
       "<style scoped>\n",
       "    .dataframe tbody tr th:only-of-type {\n",
       "        vertical-align: middle;\n",
       "    }\n",
       "\n",
       "    .dataframe tbody tr th {\n",
       "        vertical-align: top;\n",
       "    }\n",
       "\n",
       "    .dataframe thead th {\n",
       "        text-align: right;\n",
       "    }\n",
       "</style>\n",
       "<table border=\"1\" class=\"dataframe\">\n",
       "  <thead>\n",
       "    <tr style=\"text-align: right;\">\n",
       "      <th></th>\n",
       "      <th>GRB</th>\n",
       "      <th>Swift Trigger Number</th>\n",
       "      <th>BAT RA (J2000)</th>\n",
       "      <th>BAT Dec (J2000)</th>\n",
       "      <th>BAT T90</th>\n",
       "      <th>BAT Fluence (15-150 keV)</th>\n",
       "      <th>BAT Photon Index (15-150 keV) (PL = simple power-law)</th>\n",
       "      <th>Swift Comments</th>\n",
       "      <th>Redshift</th>\n",
       "      <th>Host Galaxy</th>\n",
       "    </tr>\n",
       "  </thead>\n",
       "  <tbody>\n",
       "    <tr>\n",
       "      <th>0</th>\n",
       "      <td>180905A</td>\n",
       "      <td>859421</td>\n",
       "      <td>91.038</td>\n",
       "      <td>-4.592</td>\n",
       "      <td>165.3</td>\n",
       "      <td>42.0</td>\n",
       "      <td>1.6</td>\n",
       "      <td>-</td>\n",
       "      <td>-</td>\n",
       "      <td>-</td>\n",
       "    </tr>\n",
       "    <tr>\n",
       "      <th>1</th>\n",
       "      <td>180904A</td>\n",
       "      <td>859282</td>\n",
       "      <td>274.26</td>\n",
       "      <td>46.64</td>\n",
       "      <td>5.4</td>\n",
       "      <td>2.4</td>\n",
       "      <td>1.02</td>\n",
       "      <td>UVOT: no detection</td>\n",
       "      <td>-</td>\n",
       "      <td>-</td>\n",
       "    </tr>\n",
       "    <tr>\n",
       "      <th>2</th>\n",
       "      <td>180828A</td>\n",
       "      <td>856977</td>\n",
       "      <td>268.704</td>\n",
       "      <td>-25.791</td>\n",
       "      <td>14.0</td>\n",
       "      <td>88.0</td>\n",
       "      <td>0.89</td>\n",
       "      <td>UVOT: no detection</td>\n",
       "      <td>-</td>\n",
       "      <td>-</td>\n",
       "    </tr>\n",
       "    <tr>\n",
       "      <th>3</th>\n",
       "      <td>180823A</td>\n",
       "      <td>855434</td>\n",
       "      <td>210.358</td>\n",
       "      <td>14.901</td>\n",
       "      <td>80.3</td>\n",
       "      <td>78.0</td>\n",
       "      <td>1.58</td>\n",
       "      <td>UVOT: no detection</td>\n",
       "      <td>-</td>\n",
       "      <td>-</td>\n",
       "    </tr>\n",
       "    <tr>\n",
       "      <th>4</th>\n",
       "      <td>180821A</td>\n",
       "      <td>854578</td>\n",
       "      <td>7.739</td>\n",
       "      <td>-38.612</td>\n",
       "      <td>64.0</td>\n",
       "      <td>14.0</td>\n",
       "      <td>1.79</td>\n",
       "      <td>UVOT: no detection</td>\n",
       "      <td>-</td>\n",
       "      <td>-</td>\n",
       "    </tr>\n",
       "    <tr>\n",
       "      <th>5</th>\n",
       "      <td>180818B</td>\n",
       "      <td>853882</td>\n",
       "      <td>104.227</td>\n",
       "      <td>39.31</td>\n",
       "      <td>134.4</td>\n",
       "      <td>23.0</td>\n",
       "      <td>1.77</td>\n",
       "      <td>UVOT: no detection</td>\n",
       "      <td>-</td>\n",
       "      <td>-</td>\n",
       "    </tr>\n",
       "    <tr>\n",
       "      <th>6</th>\n",
       "      <td>180818A</td>\n",
       "      <td>853824</td>\n",
       "      <td>169.698</td>\n",
       "      <td>-48.344</td>\n",
       "      <td>13.7</td>\n",
       "      <td>2.6</td>\n",
       "      <td>2.15</td>\n",
       "      <td>UVOT: no detection</td>\n",
       "      <td>-</td>\n",
       "      <td>-</td>\n",
       "    </tr>\n",
       "    <tr>\n",
       "      <th>7</th>\n",
       "      <td>180812A</td>\n",
       "      <td>852903</td>\n",
       "      <td>245.839</td>\n",
       "      <td>74.674</td>\n",
       "      <td>16.51</td>\n",
       "      <td>8.0</td>\n",
       "      <td>1.22</td>\n",
       "      <td>-</td>\n",
       "      <td>-</td>\n",
       "      <td>-</td>\n",
       "    </tr>\n",
       "    <tr>\n",
       "      <th>8</th>\n",
       "      <td>180809B</td>\n",
       "      <td>852553</td>\n",
       "      <td>299.712</td>\n",
       "      <td>-15.293</td>\n",
       "      <td>233.2</td>\n",
       "      <td>730.0</td>\n",
       "      <td>1.26</td>\n",
       "      <td>-</td>\n",
       "      <td>-</td>\n",
       "      <td>-</td>\n",
       "    </tr>\n",
       "    <tr>\n",
       "      <th>9</th>\n",
       "      <td>180805B</td>\n",
       "      <td>851855</td>\n",
       "      <td>25.877</td>\n",
       "      <td>-17.475</td>\n",
       "      <td>122.5</td>\n",
       "      <td>9.6</td>\n",
       "      <td>1.13</td>\n",
       "      <td>UVOT: no detection</td>\n",
       "      <td>-</td>\n",
       "      <td>-</td>\n",
       "    </tr>\n",
       "    <tr>\n",
       "      <th>10</th>\n",
       "      <td>180805A</td>\n",
       "      <td>851829</td>\n",
       "      <td>167.575</td>\n",
       "      <td>-45.327</td>\n",
       "      <td>1.68</td>\n",
       "      <td>1.1</td>\n",
       "      <td>1.58</td>\n",
       "      <td>UVOT: no detection</td>\n",
       "      <td>-</td>\n",
       "      <td>-</td>\n",
       "    </tr>\n",
       "    <tr>\n",
       "      <th>11</th>\n",
       "      <td>180728A</td>\n",
       "      <td>850471</td>\n",
       "      <td>253.574</td>\n",
       "      <td>-54.037</td>\n",
       "      <td>8.68</td>\n",
       "      <td>296.0</td>\n",
       "      <td>1.97</td>\n",
       "      <td>Due to an observing constraint, Swift did not ...</td>\n",
       "      <td>0.117</td>\n",
       "      <td>-</td>\n",
       "    </tr>\n",
       "    <tr>\n",
       "      <th>12</th>\n",
       "      <td>180727A</td>\n",
       "      <td>850231</td>\n",
       "      <td>346.639</td>\n",
       "      <td>-63.066</td>\n",
       "      <td>1.1</td>\n",
       "      <td>2.7</td>\n",
       "      <td>-</td>\n",
       "      <td>UVOT: no detection</td>\n",
       "      <td>-</td>\n",
       "      <td>-</td>\n",
       "    </tr>\n",
       "    <tr>\n",
       "      <th>13</th>\n",
       "      <td>180721A</td>\n",
       "      <td>849018</td>\n",
       "      <td>347.708</td>\n",
       "      <td>4.871</td>\n",
       "      <td>47.6</td>\n",
       "      <td>5.9</td>\n",
       "      <td>1.25</td>\n",
       "      <td>UVOT: no detection</td>\n",
       "      <td>-</td>\n",
       "      <td>-</td>\n",
       "    </tr>\n",
       "    <tr>\n",
       "      <th>14</th>\n",
       "      <td>180720C</td>\n",
       "      <td>848932</td>\n",
       "      <td>265.655</td>\n",
       "      <td>-26.634</td>\n",
       "      <td>124.2</td>\n",
       "      <td>24.0</td>\n",
       "      <td>1.39</td>\n",
       "      <td>BAT: The temporal and spectral characteristics...</td>\n",
       "      <td>-</td>\n",
       "      <td>-</td>\n",
       "    </tr>\n",
       "    <tr>\n",
       "      <th>15</th>\n",
       "      <td>180720B</td>\n",
       "      <td>848890</td>\n",
       "      <td>0.528</td>\n",
       "      <td>-2.925</td>\n",
       "      <td>-</td>\n",
       "      <td>860.0</td>\n",
       "      <td>1.36</td>\n",
       "      <td>-</td>\n",
       "      <td>0.654</td>\n",
       "      <td>-</td>\n",
       "    </tr>\n",
       "    <tr>\n",
       "      <th>16</th>\n",
       "      <td>180718A</td>\n",
       "      <td>Ground Analysis</td>\n",
       "      <td>336.019</td>\n",
       "      <td>2.79</td>\n",
       "      <td>0.08</td>\n",
       "      <td>-</td>\n",
       "      <td>-</td>\n",
       "      <td>XRT: no detection</td>\n",
       "      <td>-</td>\n",
       "      <td>-</td>\n",
       "    </tr>\n",
       "    <tr>\n",
       "      <th>17</th>\n",
       "      <td>180715A</td>\n",
       "      <td>848048</td>\n",
       "      <td>235.085</td>\n",
       "      <td>-0.899</td>\n",
       "      <td>0.68</td>\n",
       "      <td>1.3</td>\n",
       "      <td>0.74</td>\n",
       "      <td>Due to an observing constraint, Swift did not ...</td>\n",
       "      <td>-</td>\n",
       "      <td>-</td>\n",
       "    </tr>\n",
       "    <tr>\n",
       "      <th>18</th>\n",
       "      <td>180709A</td>\n",
       "      <td>846868</td>\n",
       "      <td>38.086</td>\n",
       "      <td>60.333</td>\n",
       "      <td>215.1</td>\n",
       "      <td>14.0</td>\n",
       "      <td>1.37</td>\n",
       "      <td>UVOT: no detection</td>\n",
       "      <td>-</td>\n",
       "      <td>-</td>\n",
       "    </tr>\n",
       "    <tr>\n",
       "      <th>19</th>\n",
       "      <td>180706A</td>\n",
       "      <td>846395</td>\n",
       "      <td>181.687</td>\n",
       "      <td>66.044</td>\n",
       "      <td>42.7</td>\n",
       "      <td>24.0</td>\n",
       "      <td>1.9</td>\n",
       "      <td>-</td>\n",
       "      <td>-</td>\n",
       "      <td>-</td>\n",
       "    </tr>\n",
       "  </tbody>\n",
       "</table>\n",
       "</div>"
      ],
      "text/plain": [
       "        GRB Swift Trigger Number BAT RA (J2000) BAT Dec (J2000) BAT T90  \\\n",
       "0   180905A               859421         91.038          -4.592   165.3   \n",
       "1   180904A               859282         274.26           46.64     5.4   \n",
       "2   180828A               856977        268.704         -25.791    14.0   \n",
       "3   180823A               855434        210.358          14.901    80.3   \n",
       "4   180821A               854578          7.739         -38.612    64.0   \n",
       "5   180818B               853882        104.227           39.31   134.4   \n",
       "6   180818A               853824        169.698         -48.344    13.7   \n",
       "7   180812A               852903        245.839          74.674   16.51   \n",
       "8   180809B               852553        299.712         -15.293   233.2   \n",
       "9   180805B               851855         25.877         -17.475   122.5   \n",
       "10  180805A               851829        167.575         -45.327    1.68   \n",
       "11  180728A               850471        253.574         -54.037    8.68   \n",
       "12  180727A               850231        346.639         -63.066     1.1   \n",
       "13  180721A               849018        347.708           4.871    47.6   \n",
       "14  180720C               848932        265.655         -26.634   124.2   \n",
       "15  180720B               848890          0.528          -2.925       -   \n",
       "16  180718A      Ground Analysis        336.019            2.79    0.08   \n",
       "17  180715A               848048        235.085          -0.899    0.68   \n",
       "18  180709A               846868         38.086          60.333   215.1   \n",
       "19  180706A               846395        181.687          66.044    42.7   \n",
       "\n",
       "   BAT Fluence (15-150 keV)  \\\n",
       "0                      42.0   \n",
       "1                       2.4   \n",
       "2                      88.0   \n",
       "3                      78.0   \n",
       "4                      14.0   \n",
       "5                      23.0   \n",
       "6                       2.6   \n",
       "7                       8.0   \n",
       "8                     730.0   \n",
       "9                       9.6   \n",
       "10                      1.1   \n",
       "11                    296.0   \n",
       "12                      2.7   \n",
       "13                      5.9   \n",
       "14                     24.0   \n",
       "15                    860.0   \n",
       "16                        -   \n",
       "17                      1.3   \n",
       "18                     14.0   \n",
       "19                     24.0   \n",
       "\n",
       "   BAT Photon Index (15-150 keV) (PL = simple power-law)  \\\n",
       "0                                                 1.6      \n",
       "1                                                1.02      \n",
       "2                                                0.89      \n",
       "3                                                1.58      \n",
       "4                                                1.79      \n",
       "5                                                1.77      \n",
       "6                                                2.15      \n",
       "7                                                1.22      \n",
       "8                                                1.26      \n",
       "9                                                1.13      \n",
       "10                                               1.58      \n",
       "11                                               1.97      \n",
       "12                                                  -      \n",
       "13                                               1.25      \n",
       "14                                               1.39      \n",
       "15                                               1.36      \n",
       "16                                                  -      \n",
       "17                                               0.74      \n",
       "18                                               1.37      \n",
       "19                                                1.9      \n",
       "\n",
       "                                       Swift Comments Redshift Host Galaxy  \n",
       "0                                                   -        -           -  \n",
       "1                                  UVOT: no detection        -           -  \n",
       "2                                  UVOT: no detection        -           -  \n",
       "3                                  UVOT: no detection        -           -  \n",
       "4                                  UVOT: no detection        -           -  \n",
       "5                                  UVOT: no detection        -           -  \n",
       "6                                  UVOT: no detection        -           -  \n",
       "7                                                   -        -           -  \n",
       "8                                                   -        -           -  \n",
       "9                                  UVOT: no detection        -           -  \n",
       "10                                 UVOT: no detection        -           -  \n",
       "11  Due to an observing constraint, Swift did not ...    0.117           -  \n",
       "12                                 UVOT: no detection        -           -  \n",
       "13                                 UVOT: no detection        -           -  \n",
       "14  BAT: The temporal and spectral characteristics...        -           -  \n",
       "15                                                  -    0.654           -  \n",
       "16                                  XRT: no detection        -           -  \n",
       "17  Due to an observing constraint, Swift did not ...        -           -  \n",
       "18                                 UVOT: no detection        -           -  \n",
       "19                                                  -        -           -  "
      ]
     },
     "execution_count": 9,
     "metadata": {},
     "output_type": "execute_result"
    }
   ],
   "source": [
    "df.head(20)"
   ]
  },
  {
   "cell_type": "code",
   "execution_count": 8,
   "metadata": {},
   "outputs": [
    {
     "data": {
      "text/plain": [
       "-                                                                                                                                                                                                                                                                                                            415\n",
       "UVOT: no detection                                                                                                                                                                                                                                                                                           381\n",
       "XRT: no detection|UVOT: no detection                                                                                                                                                                                                                                                                          11\n",
       "No AT slew (Earth limb constraint)|UVOT: no detection                                                                                                                                                                                                                                                          6\n",
       "No AT slew (Sun constraint)                                                                                                                                                                                                                                                                                    5\n",
       "Due to an observing constraint, Swift did not slew until T0+50.1 minutes.|UVOT: no detection                                                                                                                                                                                                                   4\n",
       "XRT: no detection                                                                                                                                                                                                                                                                                              3\n",
       "Due to an observing constraint, Swift cannot slew to the BAT position. There will thus be no XRT or UVOT data for this trigger.                                                                                                                                                                                3\n",
       "BATSS detected burst.                                                                                                                                                                                                                                                                                          2\n",
       "No AT slew (Moon constraint)                                                                                                                                                                                                                                                                                   2\n",
       "No AT slew (too near moon)                                                                                                                                                                                                                                                                                     2\n",
       "Declared a burst of interest.                                                                                                                                                                                                                                                                                  2\n",
       "BATSS detected burst.|UVOT: no detection                                                                                                                                                                                                                                                                       2\n",
       "BAT: multi peaks|No AT slew|XRT: no observation|UVOT: no observation                                                                                                                                                                                                                                           2\n",
       "BAT: short-hard burst|UVOT: no detection                                                                                                                                                                                                                                                                       2\n",
       "Swift is in the process of returning to normal operations, automatic slewing to GRBs is currently disabled.  Therefore, there are no prompt XRT or UVOT observations of this burst.                                                                                                                            2\n",
       "BAT: burst can be classified as an X-ray flash                                                                                                                                                                                                                                                                 2\n",
       "Due to an observing constraint, Swift did not slew until T0+50.8 minutes.|UVOT: no detection                                                                                                                                                                                                                   2\n",
       "Due to an observing constraint, Swift did not slew until T0+49.6 minutes.                                                                                                                                                                                                                                      2\n",
       "Contrary to our GCN 13431, we now think that this trigger is very likely GRB, and not a new Galactic source.                                                                                                                                                                                                   1\n",
       "Due to a Sun observing constraint, Swift cannot slew to the BAT position until 18:03 UT on 2011 December 25. There will thus be no XRT or UVOT data for this trigger before this time.                                                                                                                         1\n",
       "Due to a Sun observing constraint, Swift cannot slew to the BAT position until 10:53 UT on 2016 September 29.                                                                                                                                                                                                  1\n",
       "NOT reported redshift removed and revised TOUGH redshift added. See references.                                                                                                                                                                                                                                1\n",
       "Due to a Sun observing constraint, Swift cannot slew to the BAT position until 03:51 UT on 2013 November 26.|BAT: Swift J1242.9-3530. The emission appears to extend before and after the observation so we cannot determine a T90 interval.                                                                   1\n",
       "Due to a Moon observing constraint, Swift cannot slew to the BAT position until 23:19 UT on 2011 May 20. There will thus be no XRT or UVOT data for this trigger before this time.                                                                                                                             1\n",
       "This event has all appearances of a GRB: hard BAT spectrum, bright XRT initial detection and fading.  Still, we note that the galactic coordinates are l=12 deg, b=2.5 deg, consistent with a galactic origin.  We believe it is a GRB, but can not rule out a new galactic transient.|UVOT: no detection      1\n",
       "The Swift slew to the burst was delayed because of an Earth constraint.                                                                                                                                                                                                                                        1\n",
       "INTEGRAL: GCN 9815|UVOT: no detection                                                                                                                                                                                                                                                                          1\n",
       "Fermi: GCN 15640                                                                                                                                                                                                                                                                                               1\n",
       "XRT: The source reported seems to have faded, suggesting that it may be the X-ray afterglow.|UVOT: no detection                                                                                                                                                                                                1\n",
       "                                                                                                                                                                                                                                                                                                            ... \n",
       "Due to a Moon observing constraint, Swift did not slew to the BAT position until 04:37 UT on 2014 February 11.|UVOT: no detection                                                                                                                                                                              1\n",
       "INTEGRAL: GCN 3348                                                                                                                                                                                                                                                                                             1\n",
       "Due to an observing constraint, Swift cannot slew to the BAT position, and it will not be observable until early October. There will thus be no XRT or UVOT data for this trigger.                                                                                                                             1\n",
       "Swift did not slew to this burst because of the Moon observing constraint.                                                                                                                                                                                                                                     1\n",
       "UVOT: cannot observe (4th magnitude star to near source)                                                                                                                                                                                                                                                       1\n",
       "Due to an observing constraint, Swift did not slew until T0+49.0 minutes.|UVOT: no detection                                                                                                                                                                                                                   1\n",
       "A Target of Opportunity observation began at ~31.5 hours after the trigger.|This is Swift's 500th GRB.|XRT: no detection|UVOT: no detection                                                                                                                                                                    1\n",
       "IPN: GCN 16384|XRT: cannot determine whether the source is fading and no further observations are planned                                                                                                                                                                                                      1\n",
       "BAT: The burst can be classified as an X-ray flash                                                                                                                                                                                                                                                             1\n",
       "Due to the proximity of the burst to the Sun, Swift cannot slew to the BAT position. The burst does not become observable by Swift until November 7th; there will thus be no XRT or UVOT data for this trigger.                                                                                                1\n",
       "Due to an observing constraint, Swift did not slew until T0+50.9 minutes.|UVOT: no detection                                                                                                                                                                                                                   1\n",
       "Due to an observing constraint, Swift will not slew until T0+40.5 minutes.|UVOT: no detection                                                                                                                                                                                                                  1\n",
       "XRT: Four sources present in the field close to BAT refined error box|UVOT: No new source with respect to the DSS visible in the revised BAT error circle                                                                                                                                                      1\n",
       "UVOT: UV filters only, due to the presence of a V=4.5 star in its field of view                                                                                                                                                                                                                                1\n",
       "UVOT: Interesting optical/UV lightcurve see GCN 11107 for details.                                                                                                                                                                                                                                             1\n",
       "Fermi: GCN 9044                                                                                                                                                                                                                                                                                                1\n",
       "Due to a Sun observing constraint, Swift cannot slew to the BAT position until 18:44 UT on 2012 June 25.                                                                                                                                                                                                       1\n",
       "BAT: the burst can be classified as an X-ray flash (see GCN 15076)|UVOT: no detection                                                                                                                                                                                                                          1\n",
       "Due to an observing constraint, Swift XRT or UVOT cannot observe this region until September 24th, 2013.                                                                                                                                                                                                       1\n",
       "INTEGRAL: GCN 13434|UVOT: possible detection                                                                                                                                                                                                                                                                   1\n",
       "Swift entered the SAA shortly after detecting this burst, so there are no prompt UVOT data products for this burst.|UVOT: no detection                                                                                                                                                                         1\n",
       "BAT: possible burst|XRT: no detection                                                                                                                                                                                                                                                                          1\n",
       "Fermi: GCN 21126                                                                                                                                                                                                                                                                                               1\n",
       "AGILE: GCN 8305|UVOT: no detection                                                                                                                                                                                                                                                                             1\n",
       "Fermi: GCN 8245|UVOT: no detection                                                                                                                                                                                                                                                                             1\n",
       "No GCN Notices were issued because the trigger was below the normal acceptance level.  Also, the spacecraft did not execute an automated slew to the location because of an Earth observing constraint.                                                                                                        1\n",
       "INTEGRAL: GCN 10951|UVOT: no detection                                                                                                                                                                                                                                                                         1\n",
       "AGILE: GCN 12341|UVOT: no detection                                                                                                                                                                                                                                                                            1\n",
       "Fermi: GCN 22156                                                                                                                                                                                                                                                                                               1\n",
       "Because of a Moon constraint, Swift could not slew, and there will be no XRT or UVOT observations until June 3.                                                                                                                                                                                                1\n",
       "Name: Swift Comments, Length: 521, dtype: int64"
      ]
     },
     "execution_count": 8,
     "metadata": {},
     "output_type": "execute_result"
    }
   ],
   "source": [
    "df['Swift Comments'].value_counts()"
   ]
  },
  {
   "cell_type": "code",
   "execution_count": 16,
   "metadata": {},
   "outputs": [
    {
     "data": {
      "text/plain": [
       "1"
      ]
     },
     "execution_count": 16,
     "metadata": {},
     "output_type": "execute_result"
    }
   ],
   "source": [
    "1"
   ]
  },
  {
   "cell_type": "code",
   "execution_count": 15,
   "metadata": {},
   "outputs": [
    {
     "data": {
      "text/plain": [
       "1"
      ]
     },
     "execution_count": 15,
     "metadata": {},
     "output_type": "execute_result"
    }
   ],
   "source": [
    "1"
   ]
  },
  {
   "cell_type": "code",
   "execution_count": 14,
   "metadata": {},
   "outputs": [
    {
     "data": {
      "text/plain": [
       "1"
      ]
     },
     "execution_count": 14,
     "metadata": {},
     "output_type": "execute_result"
    }
   ],
   "source": [
    "1"
   ]
  },
  {
   "cell_type": "code",
   "execution_count": 13,
   "metadata": {},
   "outputs": [
    {
     "data": {
      "text/html": [
       "<div>\n",
       "<style scoped>\n",
       "    .dataframe tbody tr th:only-of-type {\n",
       "        vertical-align: middle;\n",
       "    }\n",
       "\n",
       "    .dataframe tbody tr th {\n",
       "        vertical-align: top;\n",
       "    }\n",
       "\n",
       "    .dataframe thead th {\n",
       "        text-align: right;\n",
       "    }\n",
       "</style>\n",
       "<table border=\"1\" class=\"dataframe\">\n",
       "  <thead>\n",
       "    <tr style=\"text-align: right;\">\n",
       "      <th></th>\n",
       "      <th>GRB</th>\n",
       "      <th>Swift Trigger Number</th>\n",
       "      <th>BAT RA (J2000)</th>\n",
       "      <th>BAT Dec (J2000)</th>\n",
       "      <th>BAT T90</th>\n",
       "      <th>BAT Fluence (15-150 keV)</th>\n",
       "      <th>BAT Photon Index (15-150 keV) (PL = simple power-law)</th>\n",
       "      <th>Swift Comments</th>\n",
       "      <th>Redshift</th>\n",
       "      <th>Host Galaxy</th>\n",
       "      <th>Detection</th>\n",
       "    </tr>\n",
       "  </thead>\n",
       "  <tbody>\n",
       "    <tr>\n",
       "      <th>0</th>\n",
       "      <td>180905A</td>\n",
       "      <td>859421</td>\n",
       "      <td>91.038</td>\n",
       "      <td>-4.592</td>\n",
       "      <td>165.3</td>\n",
       "      <td>42.0</td>\n",
       "      <td>1.6</td>\n",
       "      <td>-</td>\n",
       "      <td>-</td>\n",
       "      <td>-</td>\n",
       "      <td>True</td>\n",
       "    </tr>\n",
       "    <tr>\n",
       "      <th>1</th>\n",
       "      <td>180904A</td>\n",
       "      <td>859282</td>\n",
       "      <td>274.26</td>\n",
       "      <td>46.64</td>\n",
       "      <td>5.4</td>\n",
       "      <td>2.4</td>\n",
       "      <td>1.02</td>\n",
       "      <td>UVOT: no detection</td>\n",
       "      <td>-</td>\n",
       "      <td>-</td>\n",
       "      <td>False</td>\n",
       "    </tr>\n",
       "    <tr>\n",
       "      <th>2</th>\n",
       "      <td>180828A</td>\n",
       "      <td>856977</td>\n",
       "      <td>268.704</td>\n",
       "      <td>-25.791</td>\n",
       "      <td>14.0</td>\n",
       "      <td>88.0</td>\n",
       "      <td>0.89</td>\n",
       "      <td>UVOT: no detection</td>\n",
       "      <td>-</td>\n",
       "      <td>-</td>\n",
       "      <td>False</td>\n",
       "    </tr>\n",
       "    <tr>\n",
       "      <th>3</th>\n",
       "      <td>180823A</td>\n",
       "      <td>855434</td>\n",
       "      <td>210.358</td>\n",
       "      <td>14.901</td>\n",
       "      <td>80.3</td>\n",
       "      <td>78.0</td>\n",
       "      <td>1.58</td>\n",
       "      <td>UVOT: no detection</td>\n",
       "      <td>-</td>\n",
       "      <td>-</td>\n",
       "      <td>False</td>\n",
       "    </tr>\n",
       "    <tr>\n",
       "      <th>4</th>\n",
       "      <td>180821A</td>\n",
       "      <td>854578</td>\n",
       "      <td>7.739</td>\n",
       "      <td>-38.612</td>\n",
       "      <td>64.0</td>\n",
       "      <td>14.0</td>\n",
       "      <td>1.79</td>\n",
       "      <td>UVOT: no detection</td>\n",
       "      <td>-</td>\n",
       "      <td>-</td>\n",
       "      <td>False</td>\n",
       "    </tr>\n",
       "  </tbody>\n",
       "</table>\n",
       "</div>"
      ],
      "text/plain": [
       "       GRB Swift Trigger Number BAT RA (J2000) BAT Dec (J2000) BAT T90  \\\n",
       "0  180905A               859421         91.038          -4.592   165.3   \n",
       "1  180904A               859282         274.26           46.64     5.4   \n",
       "2  180828A               856977        268.704         -25.791    14.0   \n",
       "3  180823A               855434        210.358          14.901    80.3   \n",
       "4  180821A               854578          7.739         -38.612    64.0   \n",
       "\n",
       "  BAT Fluence (15-150 keV)  \\\n",
       "0                     42.0   \n",
       "1                      2.4   \n",
       "2                     88.0   \n",
       "3                     78.0   \n",
       "4                     14.0   \n",
       "\n",
       "  BAT Photon Index (15-150 keV) (PL = simple power-law)      Swift Comments  \\\n",
       "0                                                1.6                      -   \n",
       "1                                               1.02     UVOT: no detection   \n",
       "2                                               0.89     UVOT: no detection   \n",
       "3                                               1.58     UVOT: no detection   \n",
       "4                                               1.79     UVOT: no detection   \n",
       "\n",
       "  Redshift Host Galaxy  Detection  \n",
       "0        -           -       True  \n",
       "1        -           -      False  \n",
       "2        -           -      False  \n",
       "3        -           -      False  \n",
       "4        -           -      False  "
      ]
     },
     "execution_count": 13,
     "metadata": {},
     "output_type": "execute_result"
    }
   ],
   "source": [
    "df['Detection'] = df['Swift Comments'].apply(lambda comment : \"no detection\" not in comment)\n",
    "df.head()"
   ]
  },
  {
   "cell_type": "code",
   "execution_count": 20,
   "metadata": {},
   "outputs": [
    {
     "name": "stdout",
     "output_type": "stream",
     "text": [
      "<class 'pandas.core.frame.DataFrame'>\n",
      "RangeIndex: 1352 entries, 0 to 1351\n",
      "Data columns (total 11 columns):\n",
      "GRB                                                      1352 non-null object\n",
      "Swift Trigger Number                                     1352 non-null object\n",
      "BAT RA (J2000)                                           1352 non-null object\n",
      "BAT Dec (J2000)                                          1352 non-null object\n",
      "BAT T90                                                  1352 non-null object\n",
      "BAT Fluence (15-150 keV)                                 1352 non-null object\n",
      "BAT Photon Index (15-150 keV) (PL = simple power-law)    1352 non-null object\n",
      "Swift Comments                                           1352 non-null object\n",
      "Redshift                                                 1352 non-null object\n",
      "Host Galaxy                                              1351 non-null object\n",
      "Detection                                                1352 non-null bool\n",
      "dtypes: bool(1), object(10)\n",
      "memory usage: 107.0+ KB\n"
     ]
    }
   ],
   "source": [
    "df.info()"
   ]
  },
  {
   "cell_type": "code",
   "execution_count": 27,
   "metadata": {},
   "outputs": [
    {
     "ename": "TypeError",
     "evalue": "cannot convert the series to <class 'float'>",
     "output_type": "error",
     "traceback": [
      "\u001b[0;31m---------------------------------------------------------------------------\u001b[0m",
      "\u001b[0;31mTypeError\u001b[0m                                 Traceback (most recent call last)",
      "\u001b[0;32m<ipython-input-27-f4ee6dda0f1c>\u001b[0m in \u001b[0;36m<module>\u001b[0;34m()\u001b[0m\n\u001b[0;32m----> 1\u001b[0;31m \u001b[0mfloat\u001b[0m\u001b[0;34m(\u001b[0m\u001b[0mdf\u001b[0m\u001b[0;34m[\u001b[0m\u001b[0;34m'BAT RA (J2000)'\u001b[0m\u001b[0;34m]\u001b[0m\u001b[0;34m.\u001b[0m\u001b[0mhead\u001b[0m\u001b[0;34m(\u001b[0m\u001b[0;34m)\u001b[0m\u001b[0;34m)\u001b[0m\u001b[0;34m\u001b[0m\u001b[0;34m\u001b[0m\u001b[0m\n\u001b[0m",
      "\u001b[0;32m~/Installs/anaconda3/lib/python3.7/site-packages/pandas/core/series.py\u001b[0m in \u001b[0;36mwrapper\u001b[0;34m(self)\u001b[0m\n\u001b[1;32m    116\u001b[0m             \u001b[0;32mreturn\u001b[0m \u001b[0mconverter\u001b[0m\u001b[0;34m(\u001b[0m\u001b[0mself\u001b[0m\u001b[0;34m.\u001b[0m\u001b[0miloc\u001b[0m\u001b[0;34m[\u001b[0m\u001b[0;36m0\u001b[0m\u001b[0;34m]\u001b[0m\u001b[0;34m)\u001b[0m\u001b[0;34m\u001b[0m\u001b[0;34m\u001b[0m\u001b[0m\n\u001b[1;32m    117\u001b[0m         raise TypeError(\"cannot convert the series to \"\n\u001b[0;32m--> 118\u001b[0;31m                         \"{0}\".format(str(converter)))\n\u001b[0m\u001b[1;32m    119\u001b[0m \u001b[0;34m\u001b[0m\u001b[0m\n\u001b[1;32m    120\u001b[0m     \u001b[0;32mreturn\u001b[0m \u001b[0mwrapper\u001b[0m\u001b[0;34m\u001b[0m\u001b[0;34m\u001b[0m\u001b[0m\n",
      "\u001b[0;31mTypeError\u001b[0m: cannot convert the series to <class 'float'>"
     ]
    }
   ],
   "source": [
    "float(df['BAT RA (J2000)'].iloc[0])"
   ]
  },
  {
   "cell_type": "code",
   "execution_count": 28,
   "metadata": {},
   "outputs": [
    {
     "ename": "ValueError",
     "evalue": "could not convert string to float: '-'",
     "output_type": "error",
     "traceback": [
      "\u001b[0;31m---------------------------------------------------------------------------\u001b[0m",
      "\u001b[0;31mValueError\u001b[0m                                Traceback (most recent call last)",
      "\u001b[0;32m<ipython-input-28-c114fd3c89d4>\u001b[0m in \u001b[0;36m<module>\u001b[0;34m()\u001b[0m\n\u001b[0;32m----> 1\u001b[0;31m \u001b[0mdf\u001b[0m\u001b[0;34m[\u001b[0m\u001b[0;34m'BAT RA FLOAT'\u001b[0m\u001b[0;34m]\u001b[0m \u001b[0;34m=\u001b[0m \u001b[0mdf\u001b[0m\u001b[0;34m[\u001b[0m\u001b[0;34m'BAT RA (J2000)'\u001b[0m\u001b[0;34m]\u001b[0m\u001b[0;34m.\u001b[0m\u001b[0mapply\u001b[0m\u001b[0;34m(\u001b[0m\u001b[0;32mlambda\u001b[0m \u001b[0mbat\u001b[0m \u001b[0;34m:\u001b[0m \u001b[0mfloat\u001b[0m\u001b[0;34m(\u001b[0m\u001b[0mbat\u001b[0m\u001b[0;34m)\u001b[0m\u001b[0;34m)\u001b[0m\u001b[0;34m\u001b[0m\u001b[0;34m\u001b[0m\u001b[0m\n\u001b[0m",
      "\u001b[0;32m~/Installs/anaconda3/lib/python3.7/site-packages/pandas/core/series.py\u001b[0m in \u001b[0;36mapply\u001b[0;34m(self, func, convert_dtype, args, **kwds)\u001b[0m\n\u001b[1;32m   3192\u001b[0m             \u001b[0;32melse\u001b[0m\u001b[0;34m:\u001b[0m\u001b[0;34m\u001b[0m\u001b[0;34m\u001b[0m\u001b[0m\n\u001b[1;32m   3193\u001b[0m                 \u001b[0mvalues\u001b[0m \u001b[0;34m=\u001b[0m \u001b[0mself\u001b[0m\u001b[0;34m.\u001b[0m\u001b[0mastype\u001b[0m\u001b[0;34m(\u001b[0m\u001b[0mobject\u001b[0m\u001b[0;34m)\u001b[0m\u001b[0;34m.\u001b[0m\u001b[0mvalues\u001b[0m\u001b[0;34m\u001b[0m\u001b[0;34m\u001b[0m\u001b[0m\n\u001b[0;32m-> 3194\u001b[0;31m                 \u001b[0mmapped\u001b[0m \u001b[0;34m=\u001b[0m \u001b[0mlib\u001b[0m\u001b[0;34m.\u001b[0m\u001b[0mmap_infer\u001b[0m\u001b[0;34m(\u001b[0m\u001b[0mvalues\u001b[0m\u001b[0;34m,\u001b[0m \u001b[0mf\u001b[0m\u001b[0;34m,\u001b[0m \u001b[0mconvert\u001b[0m\u001b[0;34m=\u001b[0m\u001b[0mconvert_dtype\u001b[0m\u001b[0;34m)\u001b[0m\u001b[0;34m\u001b[0m\u001b[0;34m\u001b[0m\u001b[0m\n\u001b[0m\u001b[1;32m   3195\u001b[0m \u001b[0;34m\u001b[0m\u001b[0m\n\u001b[1;32m   3196\u001b[0m         \u001b[0;32mif\u001b[0m \u001b[0mlen\u001b[0m\u001b[0;34m(\u001b[0m\u001b[0mmapped\u001b[0m\u001b[0;34m)\u001b[0m \u001b[0;32mand\u001b[0m \u001b[0misinstance\u001b[0m\u001b[0;34m(\u001b[0m\u001b[0mmapped\u001b[0m\u001b[0;34m[\u001b[0m\u001b[0;36m0\u001b[0m\u001b[0;34m]\u001b[0m\u001b[0;34m,\u001b[0m \u001b[0mSeries\u001b[0m\u001b[0;34m)\u001b[0m\u001b[0;34m:\u001b[0m\u001b[0;34m\u001b[0m\u001b[0;34m\u001b[0m\u001b[0m\n",
      "\u001b[0;32mpandas/_libs/src/inference.pyx\u001b[0m in \u001b[0;36mpandas._libs.lib.map_infer\u001b[0;34m()\u001b[0m\n",
      "\u001b[0;32m<ipython-input-28-c114fd3c89d4>\u001b[0m in \u001b[0;36m<lambda>\u001b[0;34m(bat)\u001b[0m\n\u001b[0;32m----> 1\u001b[0;31m \u001b[0mdf\u001b[0m\u001b[0;34m[\u001b[0m\u001b[0;34m'BAT RA FLOAT'\u001b[0m\u001b[0;34m]\u001b[0m \u001b[0;34m=\u001b[0m \u001b[0mdf\u001b[0m\u001b[0;34m[\u001b[0m\u001b[0;34m'BAT RA (J2000)'\u001b[0m\u001b[0;34m]\u001b[0m\u001b[0;34m.\u001b[0m\u001b[0mapply\u001b[0m\u001b[0;34m(\u001b[0m\u001b[0;32mlambda\u001b[0m \u001b[0mbat\u001b[0m \u001b[0;34m:\u001b[0m \u001b[0mfloat\u001b[0m\u001b[0;34m(\u001b[0m\u001b[0mbat\u001b[0m\u001b[0;34m)\u001b[0m\u001b[0;34m)\u001b[0m\u001b[0;34m\u001b[0m\u001b[0;34m\u001b[0m\u001b[0m\n\u001b[0m",
      "\u001b[0;31mValueError\u001b[0m: could not convert string to float: '-'"
     ]
    }
   ],
   "source": [
    "df['BAT RA FLOAT'] = df['BAT RA (J2000)'].apply(lambda bat : float(bat))"
   ]
  },
  {
   "cell_type": "code",
   "execution_count": 30,
   "metadata": {},
   "outputs": [],
   "source": [
    "def bat_to_float(str):\n",
    "    floatVal = 0;\n",
    "    try:\n",
    "        floatVal = float(str)\n",
    "    except:\n",
    "        floatVal = 0\n",
    "    return floatVal"
   ]
  },
  {
   "cell_type": "code",
   "execution_count": 31,
   "metadata": {},
   "outputs": [
    {
     "data": {
      "text/plain": [
       "23.232"
      ]
     },
     "execution_count": 31,
     "metadata": {},
     "output_type": "execute_result"
    }
   ],
   "source": [
    "bat_to_float(\"23.232\")"
   ]
  },
  {
   "cell_type": "code",
   "execution_count": 32,
   "metadata": {},
   "outputs": [
    {
     "data": {
      "text/plain": [
       "0"
      ]
     },
     "execution_count": 32,
     "metadata": {},
     "output_type": "execute_result"
    }
   ],
   "source": [
    "bat_to_float(\"-\")"
   ]
  },
  {
   "cell_type": "code",
   "execution_count": 33,
   "metadata": {},
   "outputs": [],
   "source": [
    "df['BAT RA FLOAT'] = df['BAT RA (J2000)'].apply(bat_to_float)"
   ]
  },
  {
   "cell_type": "code",
   "execution_count": 34,
   "metadata": {},
   "outputs": [
    {
     "data": {
      "text/html": [
       "<div>\n",
       "<style scoped>\n",
       "    .dataframe tbody tr th:only-of-type {\n",
       "        vertical-align: middle;\n",
       "    }\n",
       "\n",
       "    .dataframe tbody tr th {\n",
       "        vertical-align: top;\n",
       "    }\n",
       "\n",
       "    .dataframe thead th {\n",
       "        text-align: right;\n",
       "    }\n",
       "</style>\n",
       "<table border=\"1\" class=\"dataframe\">\n",
       "  <thead>\n",
       "    <tr style=\"text-align: right;\">\n",
       "      <th></th>\n",
       "      <th>GRB</th>\n",
       "      <th>Swift Trigger Number</th>\n",
       "      <th>BAT RA (J2000)</th>\n",
       "      <th>BAT Dec (J2000)</th>\n",
       "      <th>BAT T90</th>\n",
       "      <th>BAT Fluence (15-150 keV)</th>\n",
       "      <th>BAT Photon Index (15-150 keV) (PL = simple power-law)</th>\n",
       "      <th>Swift Comments</th>\n",
       "      <th>Redshift</th>\n",
       "      <th>Host Galaxy</th>\n",
       "      <th>Detection</th>\n",
       "      <th>BAT RA FLOAT</th>\n",
       "    </tr>\n",
       "  </thead>\n",
       "  <tbody>\n",
       "    <tr>\n",
       "      <th>0</th>\n",
       "      <td>180905A</td>\n",
       "      <td>859421</td>\n",
       "      <td>91.038</td>\n",
       "      <td>-4.592</td>\n",
       "      <td>165.3</td>\n",
       "      <td>42.0</td>\n",
       "      <td>1.6</td>\n",
       "      <td>-</td>\n",
       "      <td>-</td>\n",
       "      <td>-</td>\n",
       "      <td>True</td>\n",
       "      <td>91.038</td>\n",
       "    </tr>\n",
       "    <tr>\n",
       "      <th>1</th>\n",
       "      <td>180904A</td>\n",
       "      <td>859282</td>\n",
       "      <td>274.26</td>\n",
       "      <td>46.64</td>\n",
       "      <td>5.4</td>\n",
       "      <td>2.4</td>\n",
       "      <td>1.02</td>\n",
       "      <td>UVOT: no detection</td>\n",
       "      <td>-</td>\n",
       "      <td>-</td>\n",
       "      <td>False</td>\n",
       "      <td>274.260</td>\n",
       "    </tr>\n",
       "    <tr>\n",
       "      <th>2</th>\n",
       "      <td>180828A</td>\n",
       "      <td>856977</td>\n",
       "      <td>268.704</td>\n",
       "      <td>-25.791</td>\n",
       "      <td>14.0</td>\n",
       "      <td>88.0</td>\n",
       "      <td>0.89</td>\n",
       "      <td>UVOT: no detection</td>\n",
       "      <td>-</td>\n",
       "      <td>-</td>\n",
       "      <td>False</td>\n",
       "      <td>268.704</td>\n",
       "    </tr>\n",
       "    <tr>\n",
       "      <th>3</th>\n",
       "      <td>180823A</td>\n",
       "      <td>855434</td>\n",
       "      <td>210.358</td>\n",
       "      <td>14.901</td>\n",
       "      <td>80.3</td>\n",
       "      <td>78.0</td>\n",
       "      <td>1.58</td>\n",
       "      <td>UVOT: no detection</td>\n",
       "      <td>-</td>\n",
       "      <td>-</td>\n",
       "      <td>False</td>\n",
       "      <td>210.358</td>\n",
       "    </tr>\n",
       "    <tr>\n",
       "      <th>4</th>\n",
       "      <td>180821A</td>\n",
       "      <td>854578</td>\n",
       "      <td>7.739</td>\n",
       "      <td>-38.612</td>\n",
       "      <td>64.0</td>\n",
       "      <td>14.0</td>\n",
       "      <td>1.79</td>\n",
       "      <td>UVOT: no detection</td>\n",
       "      <td>-</td>\n",
       "      <td>-</td>\n",
       "      <td>False</td>\n",
       "      <td>7.739</td>\n",
       "    </tr>\n",
       "  </tbody>\n",
       "</table>\n",
       "</div>"
      ],
      "text/plain": [
       "       GRB Swift Trigger Number BAT RA (J2000) BAT Dec (J2000) BAT T90  \\\n",
       "0  180905A               859421         91.038          -4.592   165.3   \n",
       "1  180904A               859282         274.26           46.64     5.4   \n",
       "2  180828A               856977        268.704         -25.791    14.0   \n",
       "3  180823A               855434        210.358          14.901    80.3   \n",
       "4  180821A               854578          7.739         -38.612    64.0   \n",
       "\n",
       "  BAT Fluence (15-150 keV)  \\\n",
       "0                     42.0   \n",
       "1                      2.4   \n",
       "2                     88.0   \n",
       "3                     78.0   \n",
       "4                     14.0   \n",
       "\n",
       "  BAT Photon Index (15-150 keV) (PL = simple power-law)      Swift Comments  \\\n",
       "0                                                1.6                      -   \n",
       "1                                               1.02     UVOT: no detection   \n",
       "2                                               0.89     UVOT: no detection   \n",
       "3                                               1.58     UVOT: no detection   \n",
       "4                                               1.79     UVOT: no detection   \n",
       "\n",
       "  Redshift Host Galaxy  Detection  BAT RA FLOAT  \n",
       "0        -           -       True        91.038  \n",
       "1        -           -      False       274.260  \n",
       "2        -           -      False       268.704  \n",
       "3        -           -      False       210.358  \n",
       "4        -           -      False         7.739  "
      ]
     },
     "execution_count": 34,
     "metadata": {},
     "output_type": "execute_result"
    }
   ],
   "source": [
    "df.head()"
   ]
  },
  {
   "cell_type": "code",
   "execution_count": 35,
   "metadata": {},
   "outputs": [
    {
     "name": "stdout",
     "output_type": "stream",
     "text": [
      "<class 'pandas.core.frame.DataFrame'>\n",
      "RangeIndex: 1352 entries, 0 to 1351\n",
      "Data columns (total 12 columns):\n",
      "GRB                                                      1352 non-null object\n",
      "Swift Trigger Number                                     1352 non-null object\n",
      "BAT RA (J2000)                                           1352 non-null object\n",
      "BAT Dec (J2000)                                          1352 non-null object\n",
      "BAT T90                                                  1352 non-null object\n",
      "BAT Fluence (15-150 keV)                                 1352 non-null object\n",
      "BAT Photon Index (15-150 keV) (PL = simple power-law)    1352 non-null object\n",
      "Swift Comments                                           1352 non-null object\n",
      "Redshift                                                 1352 non-null object\n",
      "Host Galaxy                                              1351 non-null object\n",
      "Detection                                                1352 non-null bool\n",
      "BAT RA FLOAT                                             1352 non-null float64\n",
      "dtypes: bool(1), float64(1), object(10)\n",
      "memory usage: 117.6+ KB\n"
     ]
    }
   ],
   "source": [
    "df.info()"
   ]
  },
  {
   "cell_type": "code",
   "execution_count": 36,
   "metadata": {},
   "outputs": [
    {
     "name": "stderr",
     "output_type": "stream",
     "text": [
      "/Users/janarthan/Installs/anaconda3/lib/python3.7/site-packages/scipy/stats/stats.py:1713: FutureWarning: Using a non-tuple sequence for multidimensional indexing is deprecated; use `arr[tuple(seq)]` instead of `arr[seq]`. In the future this will be interpreted as an array index, `arr[np.array(seq)]`, which will result either in an error or a different result.\n",
      "  return np.add.reduce(sorted[indexer] * weights, axis=axis) / sumval\n"
     ]
    },
    {
     "data": {
      "text/plain": [
       "<seaborn.axisgrid.FacetGrid at 0x1a186662b0>"
      ]
     },
     "execution_count": 36,
     "metadata": {},
     "output_type": "execute_result"
    },
    {
     "data": {
      "image/png": "[encoded data removed]",
      "text/plain": [
       "<Figure size 360x360 with 1 Axes>"
      ]
     },
     "metadata": {
      "needs_background": "light"
     },
     "output_type": "display_data"
    }
   ],
   "source": [
    "sns.lmplot(x='BAT RA FLOAT', y='Detection', data=df)"
   ]
  },
  {
   "cell_type": "code",
   "execution_count": null,
   "metadata": {},
   "outputs": [],
   "source": []
  },
  {
   "cell_type": "code",
   "execution_count": null,
   "metadata": {},
   "outputs": [],
   "source": []
  },
  {
   "cell_type": "code",
   "execution_count": null,
   "metadata": {},
   "outputs": [],
   "source": []
  },
  {
   "cell_type": "code",
   "execution_count": 23,
   "metadata": {},
   "outputs": [
    {
     "name": "stdout",
     "output_type": "stream",
     "text": [
      "<class 'pandas.core.frame.DataFrame'>\n",
      "RangeIndex: 1352 entries, 0 to 1351\n",
      "Data columns (total 11 columns):\n",
      "GRB                                                      1352 non-null object\n",
      "Swift Trigger Number                                     1352 non-null object\n",
      "BAT RA (J2000)                                           1352 non-null object\n",
      "BAT Dec (J2000)                                          1352 non-null object\n",
      "BAT T90                                                  1352 non-null object\n",
      "BAT Fluence (15-150 keV)                                 1352 non-null object\n",
      "BAT Photon Index (15-150 keV) (PL = simple power-law)    1352 non-null object\n",
      "Swift Comments                                           1352 non-null object\n",
      "Redshift                                                 1352 non-null object\n",
      "Host Galaxy                                              1351 non-null object\n",
      "Detection                                                1352 non-null bool\n",
      "dtypes: bool(1), object(10)\n",
      "memory usage: 107.0+ KB\n"
     ]
    }
   ],
   "source": [
    "df['BAT RA FLOAT'] = df['BAT RA (J2000)'].apply(lambda bat : float(bat))\n",
    "\n",
    "df.info()"
   ]
  },
  {
   "cell_type": "code",
   "execution_count": 37,
   "metadata": {},
   "outputs": [],
   "source": [
    "df.fillna(df.mean(), inplace=True)"
   ]
  },
  {
   "cell_type": "code",
   "execution_count": 38,
   "metadata": {},
   "outputs": [
    {
     "ename": "ValueError",
     "evalue": "could not convert string to float: '-'",
     "output_type": "error",
     "traceback": [
      "\u001b[0;31m---------------------------------------------------------------------------\u001b[0m",
      "\u001b[0;31mValueError\u001b[0m                                Traceback (most recent call last)",
      "\u001b[0;32m<ipython-input-38-c114fd3c89d4>\u001b[0m in \u001b[0;36m<module>\u001b[0;34m()\u001b[0m\n\u001b[0;32m----> 1\u001b[0;31m \u001b[0mdf\u001b[0m\u001b[0;34m[\u001b[0m\u001b[0;34m'BAT RA FLOAT'\u001b[0m\u001b[0;34m]\u001b[0m \u001b[0;34m=\u001b[0m \u001b[0mdf\u001b[0m\u001b[0;34m[\u001b[0m\u001b[0;34m'BAT RA (J2000)'\u001b[0m\u001b[0;34m]\u001b[0m\u001b[0;34m.\u001b[0m\u001b[0mapply\u001b[0m\u001b[0;34m(\u001b[0m\u001b[0;32mlambda\u001b[0m \u001b[0mbat\u001b[0m \u001b[0;34m:\u001b[0m \u001b[0mfloat\u001b[0m\u001b[0;34m(\u001b[0m\u001b[0mbat\u001b[0m\u001b[0;34m)\u001b[0m\u001b[0;34m)\u001b[0m\u001b[0;34m\u001b[0m\u001b[0;34m\u001b[0m\u001b[0m\n\u001b[0m",
      "\u001b[0;32m~/Installs/anaconda3/lib/python3.7/site-packages/pandas/core/series.py\u001b[0m in \u001b[0;36mapply\u001b[0;34m(self, func, convert_dtype, args, **kwds)\u001b[0m\n\u001b[1;32m   3192\u001b[0m             \u001b[0;32melse\u001b[0m\u001b[0;34m:\u001b[0m\u001b[0;34m\u001b[0m\u001b[0;34m\u001b[0m\u001b[0m\n\u001b[1;32m   3193\u001b[0m                 \u001b[0mvalues\u001b[0m \u001b[0;34m=\u001b[0m \u001b[0mself\u001b[0m\u001b[0;34m.\u001b[0m\u001b[0mastype\u001b[0m\u001b[0;34m(\u001b[0m\u001b[0mobject\u001b[0m\u001b[0;34m)\u001b[0m\u001b[0;34m.\u001b[0m\u001b[0mvalues\u001b[0m\u001b[0;34m\u001b[0m\u001b[0;34m\u001b[0m\u001b[0m\n\u001b[0;32m-> 3194\u001b[0;31m                 \u001b[0mmapped\u001b[0m \u001b[0;34m=\u001b[0m \u001b[0mlib\u001b[0m\u001b[0;34m.\u001b[0m\u001b[0mmap_infer\u001b[0m\u001b[0;34m(\u001b[0m\u001b[0mvalues\u001b[0m\u001b[0;34m,\u001b[0m \u001b[0mf\u001b[0m\u001b[0;34m,\u001b[0m \u001b[0mconvert\u001b[0m\u001b[0;34m=\u001b[0m\u001b[0mconvert_dtype\u001b[0m\u001b[0;34m)\u001b[0m\u001b[0;34m\u001b[0m\u001b[0;34m\u001b[0m\u001b[0m\n\u001b[0m\u001b[1;32m   3195\u001b[0m \u001b[0;34m\u001b[0m\u001b[0m\n\u001b[1;32m   3196\u001b[0m         \u001b[0;32mif\u001b[0m \u001b[0mlen\u001b[0m\u001b[0;34m(\u001b[0m\u001b[0mmapped\u001b[0m\u001b[0;34m)\u001b[0m \u001b[0;32mand\u001b[0m \u001b[0misinstance\u001b[0m\u001b[0;34m(\u001b[0m\u001b[0mmapped\u001b[0m\u001b[0;34m[\u001b[0m\u001b[0;36m0\u001b[0m\u001b[0;34m]\u001b[0m\u001b[0;34m,\u001b[0m \u001b[0mSeries\u001b[0m\u001b[0;34m)\u001b[0m\u001b[0;34m:\u001b[0m\u001b[0;34m\u001b[0m\u001b[0;34m\u001b[0m\u001b[0m\n",
      "\u001b[0;32mpandas/_libs/src/inference.pyx\u001b[0m in \u001b[0;36mpandas._libs.lib.map_infer\u001b[0;34m()\u001b[0m\n",
      "\u001b[0;32m<ipython-input-38-c114fd3c89d4>\u001b[0m in \u001b[0;36m<lambda>\u001b[0;34m(bat)\u001b[0m\n\u001b[0;32m----> 1\u001b[0;31m \u001b[0mdf\u001b[0m\u001b[0;34m[\u001b[0m\u001b[0;34m'BAT RA FLOAT'\u001b[0m\u001b[0;34m]\u001b[0m \u001b[0;34m=\u001b[0m \u001b[0mdf\u001b[0m\u001b[0;34m[\u001b[0m\u001b[0;34m'BAT RA (J2000)'\u001b[0m\u001b[0;34m]\u001b[0m\u001b[0;34m.\u001b[0m\u001b[0mapply\u001b[0m\u001b[0;34m(\u001b[0m\u001b[0;32mlambda\u001b[0m \u001b[0mbat\u001b[0m \u001b[0;34m:\u001b[0m \u001b[0mfloat\u001b[0m\u001b[0;34m(\u001b[0m\u001b[0mbat\u001b[0m\u001b[0;34m)\u001b[0m\u001b[0;34m)\u001b[0m\u001b[0;34m\u001b[0m\u001b[0;34m\u001b[0m\u001b[0m\n\u001b[0m",
      "\u001b[0;31mValueError\u001b[0m: could not convert string to float: '-'"
     ]
    }
   ],
   "source": [
    "df['BAT RA FLOAT'] = df['BAT RA (J2000)'].apply(lambda bat : float(bat))"
   ]
  },
  {
   "cell_type": "code",
   "execution_count": 43,
   "metadata": {},
   "outputs": [],
   "source": [
    "df['BAT RA (J2000)'].fillna(df.mean(), inplace=True)"
   ]
  },
  {
   "cell_type": "code",
   "execution_count": 44,
   "metadata": {},
   "outputs": [
    {
     "data": {
      "text/plain": [
       "0        91.038\n",
       "1        274.26\n",
       "2       268.704\n",
       "3       210.358\n",
       "4         7.739\n",
       "5       104.227\n",
       "6       169.698\n",
       "7       245.839\n",
       "8       299.712\n",
       "9        25.877\n",
       "10      167.575\n",
       "11      253.574\n",
       "12      346.639\n",
       "13      347.708\n",
       "14      265.655\n",
       "15        0.528\n",
       "16      336.019\n",
       "17      235.085\n",
       "18       38.086\n",
       "19      181.687\n",
       "20      212.605\n",
       "21       32.605\n",
       "22       48.885\n",
       "23      243.569\n",
       "24      318.096\n",
       "25      214.528\n",
       "26      357.514\n",
       "27       279.89\n",
       "28      169.948\n",
       "29        3.073\n",
       "         ...   \n",
       "1322    188.485\n",
       "1323    181.099\n",
       "1324     89.757\n",
       "1325    180.563\n",
       "1326      34.41\n",
       "1327    247.873\n",
       "1328      6.871\n",
       "1329    154.172\n",
       "1330     49.695\n",
       "1331    306.476\n",
       "1332    282.309\n",
       "1333    271.394\n",
       "1334     81.306\n",
       "1335    166.416\n",
       "1336    174.463\n",
       "1337    348.403\n",
       "1338    290.584\n",
       "1339    219.587\n",
       "1340    278.115\n",
       "1341    192.877\n",
       "1342    358.479\n",
       "1343    336.642\n",
       "1344     79.689\n",
       "1345     56.192\n",
       "1346    100.204\n",
       "1347    291.288\n",
       "1348    343.926\n",
       "1349    167.674\n",
       "1350      6.154\n",
       "1351    164.793\n",
       "Name: BAT RA (J2000), Length: 1352, dtype: object"
      ]
     },
     "execution_count": 44,
     "metadata": {},
     "output_type": "execute_result"
    }
   ],
   "source": [
    "df['BAT RA (J2000)']"
   ]
  },
  {
   "cell_type": "code",
   "execution_count": 45,
   "metadata": {},
   "outputs": [
    {
     "ename": "ValueError",
     "evalue": "could not convert string to float: '-'",
     "output_type": "error",
     "traceback": [
      "\u001b[0;31m---------------------------------------------------------------------------\u001b[0m",
      "\u001b[0;31mValueError\u001b[0m                                Traceback (most recent call last)",
      "\u001b[0;32m<ipython-input-45-c114fd3c89d4>\u001b[0m in \u001b[0;36m<module>\u001b[0;34m()\u001b[0m\n\u001b[0;32m----> 1\u001b[0;31m \u001b[0mdf\u001b[0m\u001b[0;34m[\u001b[0m\u001b[0;34m'BAT RA FLOAT'\u001b[0m\u001b[0;34m]\u001b[0m \u001b[0;34m=\u001b[0m \u001b[0mdf\u001b[0m\u001b[0;34m[\u001b[0m\u001b[0;34m'BAT RA (J2000)'\u001b[0m\u001b[0;34m]\u001b[0m\u001b[0;34m.\u001b[0m\u001b[0mapply\u001b[0m\u001b[0;34m(\u001b[0m\u001b[0;32mlambda\u001b[0m \u001b[0mbat\u001b[0m \u001b[0;34m:\u001b[0m \u001b[0mfloat\u001b[0m\u001b[0;34m(\u001b[0m\u001b[0mbat\u001b[0m\u001b[0;34m)\u001b[0m\u001b[0;34m)\u001b[0m\u001b[0;34m\u001b[0m\u001b[0;34m\u001b[0m\u001b[0m\n\u001b[0m",
      "\u001b[0;32m~/Installs/anaconda3/lib/python3.7/site-packages/pandas/core/series.py\u001b[0m in \u001b[0;36mapply\u001b[0;34m(self, func, convert_dtype, args, **kwds)\u001b[0m\n\u001b[1;32m   3192\u001b[0m             \u001b[0;32melse\u001b[0m\u001b[0;34m:\u001b[0m\u001b[0;34m\u001b[0m\u001b[0;34m\u001b[0m\u001b[0m\n\u001b[1;32m   3193\u001b[0m                 \u001b[0mvalues\u001b[0m \u001b[0;34m=\u001b[0m \u001b[0mself\u001b[0m\u001b[0;34m.\u001b[0m\u001b[0mastype\u001b[0m\u001b[0;34m(\u001b[0m\u001b[0mobject\u001b[0m\u001b[0;34m)\u001b[0m\u001b[0;34m.\u001b[0m\u001b[0mvalues\u001b[0m\u001b[0;34m\u001b[0m\u001b[0;34m\u001b[0m\u001b[0m\n\u001b[0;32m-> 3194\u001b[0;31m                 \u001b[0mmapped\u001b[0m \u001b[0;34m=\u001b[0m \u001b[0mlib\u001b[0m\u001b[0;34m.\u001b[0m\u001b[0mmap_infer\u001b[0m\u001b[0;34m(\u001b[0m\u001b[0mvalues\u001b[0m\u001b[0;34m,\u001b[0m \u001b[0mf\u001b[0m\u001b[0;34m,\u001b[0m \u001b[0mconvert\u001b[0m\u001b[0;34m=\u001b[0m\u001b[0mconvert_dtype\u001b[0m\u001b[0;34m)\u001b[0m\u001b[0;34m\u001b[0m\u001b[0;34m\u001b[0m\u001b[0m\n\u001b[0m\u001b[1;32m   3195\u001b[0m \u001b[0;34m\u001b[0m\u001b[0m\n\u001b[1;32m   3196\u001b[0m         \u001b[0;32mif\u001b[0m \u001b[0mlen\u001b[0m\u001b[0;34m(\u001b[0m\u001b[0mmapped\u001b[0m\u001b[0;34m)\u001b[0m \u001b[0;32mand\u001b[0m \u001b[0misinstance\u001b[0m\u001b[0;34m(\u001b[0m\u001b[0mmapped\u001b[0m\u001b[0;34m[\u001b[0m\u001b[0;36m0\u001b[0m\u001b[0;34m]\u001b[0m\u001b[0;34m,\u001b[0m \u001b[0mSeries\u001b[0m\u001b[0;34m)\u001b[0m\u001b[0;34m:\u001b[0m\u001b[0;34m\u001b[0m\u001b[0;34m\u001b[0m\u001b[0m\n",
      "\u001b[0;32mpandas/_libs/src/inference.pyx\u001b[0m in \u001b[0;36mpandas._libs.lib.map_infer\u001b[0;34m()\u001b[0m\n",
      "\u001b[0;32m<ipython-input-45-c114fd3c89d4>\u001b[0m in \u001b[0;36m<lambda>\u001b[0;34m(bat)\u001b[0m\n\u001b[0;32m----> 1\u001b[0;31m \u001b[0mdf\u001b[0m\u001b[0;34m[\u001b[0m\u001b[0;34m'BAT RA FLOAT'\u001b[0m\u001b[0;34m]\u001b[0m \u001b[0;34m=\u001b[0m \u001b[0mdf\u001b[0m\u001b[0;34m[\u001b[0m\u001b[0;34m'BAT RA (J2000)'\u001b[0m\u001b[0;34m]\u001b[0m\u001b[0;34m.\u001b[0m\u001b[0mapply\u001b[0m\u001b[0;34m(\u001b[0m\u001b[0;32mlambda\u001b[0m \u001b[0mbat\u001b[0m \u001b[0;34m:\u001b[0m \u001b[0mfloat\u001b[0m\u001b[0;34m(\u001b[0m\u001b[0mbat\u001b[0m\u001b[0;34m)\u001b[0m\u001b[0;34m)\u001b[0m\u001b[0;34m\u001b[0m\u001b[0;34m\u001b[0m\u001b[0m\n\u001b[0m",
      "\u001b[0;31mValueError\u001b[0m: could not convert string to float: '-'"
     ]
    }
   ],
   "source": [
    "df['BAT RA FLOAT'] = df['BAT RA (J2000)'].apply(lambda bat : float(bat))"
   ]
  },
  {
   "cell_type": "code",
   "execution_count": 46,
   "metadata": {},
   "outputs": [],
   "source": [
    "def bat_to_float(str):\n",
    "    floatVal = 0;\n",
    "    try:\n",
    "        floatVal = float(str)\n",
    "    except:\n",
    "        print(str)\n",
    "        floatVal = 0\n",
    "    return floatVal"
   ]
  },
  {
   "cell_type": "code",
   "execution_count": 47,
   "metadata": {},
   "outputs": [
    {
     "name": "stdout",
     "output_type": "stream",
     "text": [
      "sdf\n"
     ]
    },
    {
     "data": {
      "text/plain": [
       "0"
      ]
     },
     "execution_count": 47,
     "metadata": {},
     "output_type": "execute_result"
    }
   ],
   "source": [
    "bat_to_float(\"sdf\")"
   ]
  },
  {
   "cell_type": "code",
   "execution_count": 48,
   "metadata": {},
   "outputs": [
    {
     "name": "stdout",
     "output_type": "stream",
     "text": [
      "-\n",
      "-\n",
      "-\n",
      "-\n",
      "-\n",
      "-\n"
     ]
    }
   ],
   "source": [
    "df['BAT RA FLOAT'] = df['BAT RA (J2000)'].apply(bat_to_float)"
   ]
  },
  {
   "cell_type": "code",
   "execution_count": 49,
   "metadata": {},
   "outputs": [
    {
     "ename": "TypeError",
     "evalue": "Could not convert 91.038274.26268.704210.3587.739104.227169.698245.839299.71225.877167.575253.574346.639347.708265.6550.528336.019235.08538.086181.687212.60532.60548.885243.569318.096214.528357.514279.89169.9483.073211.545142.343197.382201.9477.965276.335331.14464.45170.132356.8495.97435.23653.3983.54251.923196.78166.00582.905329.314157.41676.581265.422297.85599.2083.379202.675256.537126.819330.12312.0419.211149.782159.585203.078148.273212.013293.9298.154139.387167.423-186.198163.774278.392249.51288.09661.68339.26236.76634.12366.74135.635139.1522.0826.84215.464167.386128.659232.221203.949254.532276.189188.71394.375201.057187.928143.4346.404174.947238.01958.901150.05734.32245.78243.122231.851191.708129.963165.4097.358342.645286.901121.2184.723319.48890.864135.45163.42941.543159.91330.05160.49479.854219.824323.778283.331127.483284.229305.66293.087280.53913.51263.087127.145166.544271.784262.157332.861152.526341.44719.997174.382263.623332.14561.73515.23220.688267.089204.82350.84191.717245.25150.6583.857356.904316.221298.83322.053179.794180.776120.19877.906128.988142.77332.626245.687103.408112.156263.12771.923256.268295.652301.595162.249179.274183.1280.087280.005171.254288.616221.652212.76398.809190.502234.49304.166235.996168.107287.414198.238176.939330.21348.364164.41713.661234.923149.438103.57571.122265.857170.073286.389280.339319.48216.418120.2633.074349.37150.695289.705122.561146.69815.69799.42112.766183.821168.71107.311195.034164.217147.603259.851236.942311.679161.96778.17225.966150.277109.08211.916132.1920.36776.808329.363344.431214.01793.62265.0841.19229.29119.664299.70457.169120.9472.0556.85217.13983.18938.53776.188272.498271.012349.223337.647147.426213.613336.974233.722227.538319.67567.4285.677255.265183.609271.03221.034341.91342.34230.34249.635291.34782.961292.271203.96897.549218.297119.577278.481221.62483.191194.484187.627111.353314.713107.554140.0157.496327.511288.96249.044326.481292.661188.539152.305221.601190.396216.603311.505173.658192.625260.447128.173324.99138.995126.661277.004175.51589.159244.281198.787253.448285.497254.84610.076160.24198.39439.26111.8239.30910.33289.374131.674188.044312.599-138.754198.283195.058250.86639.16792.859222.804122.665222.453144.563208.614356.883128.599322.744.049241.93225.05493.60187.535291.10376.7216.3643.81291.802221.5440.384193.63848.133238.021112.184142.029-206.627271.168199.554127.244--56.3539.731171.571108.133281.14141.088146.071304.63949.26913.01249.01740.67277.163202.8278.027.096147.423322.636231.171349.939286.26186.373201.799228.81320.177227.231252.972186.071289.36646.564250.1276.806319.172102.942194.365197.276127.001195.3165.439145.032290.723207.592134.86356.975134.4175145.5409281.843184.049252.333209.293344.49730.653253.86269.521104.129105.166124.23381.328145.321326.76437.851330.999188.498325.129232.114211.91510.58585.23667.369301.309131.573344.005355.305332.714278.937332.35469.268156.4770.973348.94829.618345.08144.464290.54498.473296.10875.135253.1038.304190.725135.02841.186207.281341.9647.606215.898192.454358.635182.42627.94170.049197.09392.387269.80135.907220.256330.79214.233230.06260.6789.038179.58117.474218.8357.224181.914184.415273.128343.33620.723274.963259.771224.41453.776152.6824.597249.39292.18134.536250.166172.22286.85924.274139.405309.28287.568355.671321.555283.436147.604296.278144.77525196.654305.351137.0691.715272.459138.57974.5314.9173.15183.095196.118355.278149.045134.398214.991.984157.541236.438279.475116.77467.90158.86643.486147.524140.387173.957171.091194.307311.435190.095168.62153.708177.787195.575326.8256.7913.473300.589228.519307.33431.61783.216270.896170.772271.90363.598248.7570.481288.82166.645260.204276.029136.606303.781234.758181.042213.66146.4357.966275.73574.736235.887250.6928.31282.133273.976199.69257.184241.273216.536233.951314.223269.53144.83313.078137.085245.193230.489313.089355.412167.975169.598331.7194.703339.35380.338352.3170.886126.723214.288197.016148.692283.002136.915187.4024235.00254.30242.45858.057241.607246.854273.906291.081212.517251.812258.551273.075219.12347.549122.42620.03340.937129.862319.764130.057300.98743.08687.781203.5065249.363120.029124.86216.24317.904366.129276.22476.561150.06313.158179.193222.403349.582310.442153.091191.49314.35290.215192.924134.486336.651190.4854307.415276.057154.845154.74612.702118.248129.487265.691327.11144.785244.256108.927275.871287.029271.482153.82660.439223.315257.745294.09432.57577.548310.83197.0614164.059343.203317.37357.32289.415280.513286.71324.57237.665164.668238.895340.1208286.751308.205271.003282.045120.132134.363261.638132.7995.3112.057320.0452.16497.876133.491291.427186.022197.432251.233326.088356.51211.691338.292279.205157.5260.877150.34345.38641.76842.97869.02513.10822.48712.5492.35535164.603137.489193.871348.589329.936299.89134.15579.295245.8770.2037285.93912.25974.586241.297167.5481.955155.921172.991303.193292.218347166.3966.465317.949189.607291.37748.274328.882223.0370.672289.25315.66473.950628.69731.542172.90748.62627.25220.706351.73822.47955.283299.8462.48244.05188.753154.187290.029166.468194.569112.319255.209133.639245.693225.94315.796315.30984.618177.208263.534350.617311.1188333330.777230.7926.99304.7999328.821169.60676.263255.57589.171299.161209.453136.471296.09256.358191.59266.223356.8264290.813302.98798.612107.59932.309163.499251.953168.373195.50483.467154.202154.263124.32349.379356.44547.168141.38596.225299.30811.283.333247.029112.366132.914655.79829.4110.295138.8312203.14936.58130.945257.751137.8133112.75309.252208.72372.62260.166276.657339.24175.72732.191298.669251.1117.71256.494343.92946.31354.5126.582237.99188.046264.194100.855265.0108.29418.435128.67163.965964.4964.7488239.613225.065353.2328.665273.74129.644315.917248.681203.694251.337152.10270.09793.522289.944154.632175.888237.0382.2626313.45510.987294.008191.194252.07178.672179.4212.44611.613142.317119.957138.246164.166333.552241.422210.67290.573189.082189.531148.891294.746197.006269.32225.91209.68734.993334.95668.979239.23395.095350.9290.87190.69198.4284.978183.545245.007231.204241.764338.142220.91792.051269.1053.8486.79449.865164.00332.067251.656284.8075302.409128.24837.3339.477120.47822.74815.801328.082168.23170.485349.7735228.789233.07120.8332.075323.52689.28282.572330.7983.95224100.5331.17895.836346.776121.893245.29827.891226.584230.20914.582255.572530.184220.363279.968339.963262.3758276.57695.061265.221163.632336.289121.8213.08817.91165.741228.055301.746287.66386.79209.28163.56356.783314.231328.675270.72932.638276.871208.416121.699176.8354274.461224.481188.1048.25932.627101.822313.049355.61645.944298.4423237.667173.806213.2742194.964262.13236.96176.554279.40919.177268.44920.769280.179102.274120.6613.166322.82233.721329.467286.686165.33126.51326.138287.30137.96184.304114.678162.597169.27880.49277.906177.76399.479259.006217.919206.352155.124220.04136.629112.019199.221228.22177.927355.941231.145251.259207.51498.261261.632105.297338.974137.235225.254758.132220.039276.576299.839335.02639.218260.213289.913295.648.1796.399119.828354.163355.065340.573119.666164.685279.5018.395338.054150.531288.04151.571335.294301.857149.707253.218184.6230.127100.968293.923228.73725.8198.952189.947203.7676.761245.05736.903328.58156.29617.62927.82433.1283.14457.85342.933267.67354.707115.271323.80632.09644.3077261.716121.3552.0046.714283.717242.659121.886193.255254.219277.556237.874312.832347.203328.006297.69528.871121.245315.709182.755181.525107.342198.956269.53365.11340.33748.48687.5411263.6848148.154120.578178.988153.45334.8260.2246.213197.89136.99533.503117.850.934159.422352.581105.353358.254149.26160.403144.521105.255332.07986.615303.837147.228323.912336.284148.39497.193270.992300.9121145.14691.67546.299110.99897.795220.356263.148329.547263.926346.122238.193254.623276.95.28531.82840.70958.218237.731287.1575818.132221.338111.89252.52220.928112.219212.98995.28716.64418.42170.857227.855184.0677.831357.069320.87742.043329.705322.128337.224149.579232.834322.95471.17127.277195.748239.25995.8689.911331.772278.927240.937328.374235.369123.54124.1777.359343.629236.431291.287282.338174.421274.23176.37966.62545.7841.097254.23855.186241.85150.3875.08558.38157.727202.933211.805103.46335.80977.097179.75137.488327.91284.69854.007286.456276.19372.737282.735147.013297.485328.839125.231312.378328.715252.084345.688330.19285.205228.398226.29187.242348.136345.469330.316265.279-359.0126.05929.1132.123122.814270.513202.865110.807350.984303.49317.3835.79135.979219.10981.68813.7120.45752.80213.7764.29487.76112.26451.106135.607337.416358.751293.584264.196242.001350.65219.283204.144212.069200.024246.175253.453214.348338.593155.641169.69143.5863307.821320.58577.722227.241300.1839.982353.524278.142200.1468192.5087189.046310.57348.063141.76200.9986142.535324.507307.34144.334133.848188.485181.09989.757180.56334.41247.8736.871154.17249.695306.476282.309271.39481.306166.416174.463348.403290.584219.587278.115192.877358.479336.64279.68956.192100.204291.288343.926167.6746.154164.793 to numeric",
     "output_type": "error",
     "traceback": [
      "\u001b[0;31m---------------------------------------------------------------------------\u001b[0m",
      "\u001b[0;31mValueError\u001b[0m                                Traceback (most recent call last)",
      "\u001b[0;32m~/Installs/anaconda3/lib/python3.7/site-packages/pandas/core/nanops.py\u001b[0m in \u001b[0;36m_ensure_numeric\u001b[0;34m(x)\u001b[0m\n\u001b[1;32m    821\u001b[0m         \u001b[0;32mtry\u001b[0m\u001b[0;34m:\u001b[0m\u001b[0;34m\u001b[0m\u001b[0;34m\u001b[0m\u001b[0m\n\u001b[0;32m--> 822\u001b[0;31m             \u001b[0mx\u001b[0m \u001b[0;34m=\u001b[0m \u001b[0mfloat\u001b[0m\u001b[0;34m(\u001b[0m\u001b[0mx\u001b[0m\u001b[0;34m)\u001b[0m\u001b[0;34m\u001b[0m\u001b[0;34m\u001b[0m\u001b[0m\n\u001b[0m\u001b[1;32m    823\u001b[0m         \u001b[0;32mexcept\u001b[0m \u001b[0mException\u001b[0m\u001b[0;34m:\u001b[0m\u001b[0;34m\u001b[0m\u001b[0;34m\u001b[0m\u001b[0m\n",
      "\u001b[0;31mValueError\u001b[0m: could not convert string to float: '91.038274.26268.704210.3587.739104.227169.698245.839299.71225.877167.575253.574346.639347.708265.6550.528336.019235.08538.086181.687212.60532.60548.885243.569318.096214.528357.514279.89169.9483.073211.545142.343197.382201.9477.965276.335331.14464.45170.132356.8495.97435.23653.3983.54251.923196.78166.00582.905329.314157.41676.581265.422297.85599.2083.379202.675256.537126.819330.12312.0419.211149.782159.585203.078148.273212.013293.9298.154139.387167.423-186.198163.774278.392249.51288.09661.68339.26236.76634.12366.74135.635139.1522.0826.84215.464167.386128.659232.221203.949254.532276.189188.71394.375201.057187.928143.4346.404174.947238.01958.901150.05734.32245.78243.122231.851191.708129.963165.4097.358342.645286.901121.2184.723319.48890.864135.45163.42941.543159.91330.05160.49479.854219.824323.778283.331127.483284.229305.66293.087280.53913.51263.087127.145166.544271.784262.157332.861152.526341.44719.997174.382263.623332.14561.73515.23220.688267.089204.82350.84191.717245.25150.6583.857356.904316.221298.83322.053179.794180.776120.19877.906128.988142.77332.626245.687103.408112.156263.12771.923256.268295.652301.595162.249179.274183.1280.087280.005171.254288.616221.652212.76398.809190.502234.49304.166235.996168.107287.414198.238176.939330.21348.364164.41713.661234.923149.438103.57571.122265.857170.073286.389280.339319.48216.418120.2633.074349.37150.695289.705122.561146.69815.69799.42112.766183.821168.71107.311195.034164.217147.603259.851236.942311.679161.96778.17225.966150.277109.08211.916132.1920.36776.808329.363344.431214.01793.62265.0841.19229.29119.664299.70457.169120.9472.0556.85217.13983.18938.53776.188272.498271.012349.223337.647147.426213.613336.974233.722227.538319.67567.4285.677255.265183.609271.03221.034341.91342.34230.34249.635291.34782.961292.271203.96897.549218.297119.577278.481221.62483.191194.484187.627111.353314.713107.554140.0157.496327.511288.96249.044326.481292.661188.539152.305221.601190.396216.603311.505173.658192.625260.447128.173324.99138.995126.661277.004175.51589.159244.281198.787253.448285.497254.84610.076160.24198.39439.26111.8239.30910.33289.374131.674188.044312.599-138.754198.283195.058250.86639.16792.859222.804122.665222.453144.563208.614356.883128.599322.744.049241.93225.05493.60187.535291.10376.7216.3643.81291.802221.5440.384193.63848.133238.021112.184142.029-206.627271.168199.554127.244--56.3539.731171.571108.133281.14141.088146.071304.63949.26913.01249.01740.67277.163202.8278.027.096147.423322.636231.171349.939286.26186.373201.799228.81320.177227.231252.972186.071289.36646.564250.1276.806319.172102.942194.365197.276127.001195.3165.439145.032290.723207.592134.86356.975134.4175145.5409281.843184.049252.333209.293344.49730.653253.86269.521104.129105.166124.23381.328145.321326.76437.851330.999188.498325.129232.114211.91510.58585.23667.369301.309131.573344.005355.305332.714278.937332.35469.268156.4770.973348.94829.618345.08144.464290.54498.473296.10875.135253.1038.304190.725135.02841.186207.281341.9647.606215.898192.454358.635182.42627.94170.049197.09392.387269.80135.907220.256330.79214.233230.06260.6789.038179.58117.474218.8357.224181.914184.415273.128343.33620.723274.963259.771224.41453.776152.6824.597249.39292.18134.536250.166172.22286.85924.274139.405309.28287.568355.671321.555283.436147.604296.278144.77525196.654305.351137.0691.715272.459138.57974.5314.9173.15183.095196.118355.278149.045134.398214.991.984157.541236.438279.475116.77467.90158.86643.486147.524140.387173.957171.091194.307311.435190.095168.62153.708177.787195.575326.8256.7913.473300.589228.519307.33431.61783.216270.896170.772271.90363.598248.7570.481288.82166.645260.204276.029136.606303.781234.758181.042213.66146.4357.966275.73574.736235.887250.6928.31282.133273.976199.69257.184241.273216.536233.951314.223269.53144.83313.078137.085245.193230.489313.089355.412167.975169.598331.7194.703339.35380.338352.3170.886126.723214.288197.016148.692283.002136.915187.4024235.00254.30242.45858.057241.607246.854273.906291.081212.517251.812258.551273.075219.12347.549122.42620.03340.937129.862319.764130.057300.98743.08687.781203.5065249.363120.029124.86216.24317.904366.129276.22476.561150.06313.158179.193222.403349.582310.442153.091191.49314.35290.215192.924134.486336.651190.4854307.415276.057154.845154.74612.702118.248129.487265.691327.11144.785244.256108.927275.871287.029271.482153.82660.439223.315257.745294.09432.57577.548310.83197.0614164.059343.203317.37357.32289.415280.513286.71324.57237.665164.668238.895340.1208286.751308.205271.003282.045120.132134.363261.638132.7995.3112.057320.0452.16497.876133.491291.427186.022197.432251.233326.088356.51211.691338.292279.205157.5260.877150.34345.38641.76842.97869.02513.10822.48712.5492.35535164.603137.489193.871348.589329.936299.89134.15579.295245.8770.2037285.93912.25974.586241.297167.5481.955155.921172.991303.193292.218347166.3966.465317.949189.607291.37748.274328.882223.0370.672289.25315.66473.950628.69731.542172.90748.62627.25220.706351.73822.47955.283299.8462.48244.05188.753154.187290.029166.468194.569112.319255.209133.639245.693225.94315.796315.30984.618177.208263.534350.617311.1188333330.777230.7926.99304.7999328.821169.60676.263255.57589.171299.161209.453136.471296.09256.358191.59266.223356.8264290.813302.98798.612107.59932.309163.499251.953168.373195.50483.467154.202154.263124.32349.379356.44547.168141.38596.225299.30811.283.333247.029112.366132.914655.79829.4110.295138.8312203.14936.58130.945257.751137.8133112.75309.252208.72372.62260.166276.657339.24175.72732.191298.669251.1117.71256.494343.92946.31354.5126.582237.99188.046264.194100.855265.0108.29418.435128.67163.965964.4964.7488239.613225.065353.2328.665273.74129.644315.917248.681203.694251.337152.10270.09793.522289.944154.632175.888237.0382.2626313.45510.987294.008191.194252.07178.672179.4212.44611.613142.317119.957138.246164.166333.552241.422210.67290.573189.082189.531148.891294.746197.006269.32225.91209.68734.993334.95668.979239.23395.095350.9290.87190.69198.4284.978183.545245.007231.204241.764338.142220.91792.051269.1053.8486.79449.865164.00332.067251.656284.8075302.409128.24837.3339.477120.47822.74815.801328.082168.23170.485349.7735228.789233.07120.8332.075323.52689.28282.572330.7983.95224100.5331.17895.836346.776121.893245.29827.891226.584230.20914.582255.572530.184220.363279.968339.963262.3758276.57695.061265.221163.632336.289121.8213.08817.91165.741228.055301.746287.66386.79209.28163.56356.783314.231328.675270.72932.638276.871208.416121.699176.8354274.461224.481188.1048.25932.627101.822313.049355.61645.944298.4423237.667173.806213.2742194.964262.13236.96176.554279.40919.177268.44920.769280.179102.274120.6613.166322.82233.721329.467286.686165.33126.51326.138287.30137.96184.304114.678162.597169.27880.49277.906177.76399.479259.006217.919206.352155.124220.04136.629112.019199.221228.22177.927355.941231.145251.259207.51498.261261.632105.297338.974137.235225.254758.132220.039276.576299.839335.02639.218260.213289.913295.648.1796.399119.828354.163355.065340.573119.666164.685279.5018.395338.054150.531288.04151.571335.294301.857149.707253.218184.6230.127100.968293.923228.73725.8198.952189.947203.7676.761245.05736.903328.58156.29617.62927.82433.1283.14457.85342.933267.67354.707115.271323.80632.09644.3077261.716121.3552.0046.714283.717242.659121.886193.255254.219277.556237.874312.832347.203328.006297.69528.871121.245315.709182.755181.525107.342198.956269.53365.11340.33748.48687.5411263.6848148.154120.578178.988153.45334.8260.2246.213197.89136.99533.503117.850.934159.422352.581105.353358.254149.26160.403144.521105.255332.07986.615303.837147.228323.912336.284148.39497.193270.992300.9121145.14691.67546.299110.99897.795220.356263.148329.547263.926346.122238.193254.623276.95.28531.82840.70958.218237.731287.1575818.132221.338111.89252.52220.928112.219212.98995.28716.64418.42170.857227.855184.0677.831357.069320.87742.043329.705322.128337.224149.579232.834322.95471.17127.277195.748239.25995.8689.911331.772278.927240.937328.374235.369123.54124.1777.359343.629236.431291.287282.338174.421274.23176.37966.62545.7841.097254.23855.186241.85150.3875.08558.38157.727202.933211.805103.46335.80977.097179.75137.488327.91284.69854.007286.456276.19372.737282.735147.013297.485328.839125.231312.378328.715252.084345.688330.19285.205228.398226.29187.242348.136345.469330.316265.279-359.0126.05929.1132.123122.814270.513202.865110.807350.984303.49317.3835.79135.979219.10981.68813.7120.45752.80213.7764.29487.76112.26451.106135.607337.416358.751293.584264.196242.001350.65219.283204.144212.069200.024246.175253.453214.348338.593155.641169.69143.5863307.821320.58577.722227.241300.1839.982353.524278.142200.1468192.5087189.046310.57348.063141.76200.9986142.535324.507307.34144.334133.848188.485181.09989.757180.56334.41247.8736.871154.17249.695306.476282.309271.39481.306166.416174.463348.403290.584219.587278.115192.877358.479336.64279.68956.192100.204291.288343.926167.6746.154164.793'",
      "\nDuring handling of the above exception, another exception occurred:\n",
      "\u001b[0;31mValueError\u001b[0m                                Traceback (most recent call last)",
      "\u001b[0;32m~/Installs/anaconda3/lib/python3.7/site-packages/pandas/core/nanops.py\u001b[0m in \u001b[0;36m_ensure_numeric\u001b[0;34m(x)\u001b[0m\n\u001b[1;32m    824\u001b[0m             \u001b[0;32mtry\u001b[0m\u001b[0;34m:\u001b[0m\u001b[0;34m\u001b[0m\u001b[0;34m\u001b[0m\u001b[0m\n\u001b[0;32m--> 825\u001b[0;31m                 \u001b[0mx\u001b[0m \u001b[0;34m=\u001b[0m \u001b[0mcomplex\u001b[0m\u001b[0;34m(\u001b[0m\u001b[0mx\u001b[0m\u001b[0;34m)\u001b[0m\u001b[0;34m\u001b[0m\u001b[0;34m\u001b[0m\u001b[0m\n\u001b[0m\u001b[1;32m    826\u001b[0m             \u001b[0;32mexcept\u001b[0m \u001b[0mException\u001b[0m\u001b[0;34m:\u001b[0m\u001b[0;34m\u001b[0m\u001b[0;34m\u001b[0m\u001b[0m\n",
      "\u001b[0;31mValueError\u001b[0m: complex() arg is a malformed string",
      "\nDuring handling of the above exception, another exception occurred:\n",
      "\u001b[0;31mTypeError\u001b[0m                                 Traceback (most recent call last)",
      "\u001b[0;32m~/Installs/anaconda3/lib/python3.7/site-packages/pandas/core/nanops.py\u001b[0m in \u001b[0;36mf\u001b[0;34m(values, axis, skipna, **kwds)\u001b[0m\n\u001b[1;32m    127\u001b[0m                 \u001b[0;32melse\u001b[0m\u001b[0;34m:\u001b[0m\u001b[0;34m\u001b[0m\u001b[0;34m\u001b[0m\u001b[0m\n\u001b[0;32m--> 128\u001b[0;31m                     \u001b[0mresult\u001b[0m \u001b[0;34m=\u001b[0m \u001b[0malt\u001b[0m\u001b[0;34m(\u001b[0m\u001b[0mvalues\u001b[0m\u001b[0;34m,\u001b[0m \u001b[0maxis\u001b[0m\u001b[0;34m=\u001b[0m\u001b[0maxis\u001b[0m\u001b[0;34m,\u001b[0m \u001b[0mskipna\u001b[0m\u001b[0;34m=\u001b[0m\u001b[0mskipna\u001b[0m\u001b[0;34m,\u001b[0m \u001b[0;34m**\u001b[0m\u001b[0mkwds\u001b[0m\u001b[0;34m)\u001b[0m\u001b[0;34m\u001b[0m\u001b[0;34m\u001b[0m\u001b[0m\n\u001b[0m\u001b[1;32m    129\u001b[0m             \u001b[0;32mexcept\u001b[0m \u001b[0mException\u001b[0m\u001b[0;34m:\u001b[0m\u001b[0;34m\u001b[0m\u001b[0;34m\u001b[0m\u001b[0m\n",
      "\u001b[0;32m~/Installs/anaconda3/lib/python3.7/site-packages/pandas/core/nanops.py\u001b[0m in \u001b[0;36mnanmean\u001b[0;34m(values, axis, skipna)\u001b[0m\n\u001b[1;32m    354\u001b[0m     \u001b[0mcount\u001b[0m \u001b[0;34m=\u001b[0m \u001b[0m_get_counts\u001b[0m\u001b[0;34m(\u001b[0m\u001b[0mmask\u001b[0m\u001b[0;34m,\u001b[0m \u001b[0maxis\u001b[0m\u001b[0;34m,\u001b[0m \u001b[0mdtype\u001b[0m\u001b[0;34m=\u001b[0m\u001b[0mdtype_count\u001b[0m\u001b[0;34m)\u001b[0m\u001b[0;34m\u001b[0m\u001b[0;34m\u001b[0m\u001b[0m\n\u001b[0;32m--> 355\u001b[0;31m     \u001b[0mthe_sum\u001b[0m \u001b[0;34m=\u001b[0m \u001b[0m_ensure_numeric\u001b[0m\u001b[0;34m(\u001b[0m\u001b[0mvalues\u001b[0m\u001b[0;34m.\u001b[0m\u001b[0msum\u001b[0m\u001b[0;34m(\u001b[0m\u001b[0maxis\u001b[0m\u001b[0;34m,\u001b[0m \u001b[0mdtype\u001b[0m\u001b[0;34m=\u001b[0m\u001b[0mdtype_sum\u001b[0m\u001b[0;34m)\u001b[0m\u001b[0;34m)\u001b[0m\u001b[0;34m\u001b[0m\u001b[0;34m\u001b[0m\u001b[0m\n\u001b[0m\u001b[1;32m    356\u001b[0m \u001b[0;34m\u001b[0m\u001b[0m\n",
      "\u001b[0;32m~/Installs/anaconda3/lib/python3.7/site-packages/pandas/core/nanops.py\u001b[0m in \u001b[0;36m_ensure_numeric\u001b[0;34m(x)\u001b[0m\n\u001b[1;32m    827\u001b[0m                 raise TypeError('Could not convert {value!s} to numeric'\n\u001b[0;32m--> 828\u001b[0;31m                                 .format(value=x))\n\u001b[0m\u001b[1;32m    829\u001b[0m     \u001b[0;32mreturn\u001b[0m \u001b[0mx\u001b[0m\u001b[0;34m\u001b[0m\u001b[0;34m\u001b[0m\u001b[0m\n",
      "\u001b[0;31mTypeError\u001b[0m: Could not convert 91.038274.26268.704210.3587.739104.227169.698245.839299.71225.877167.575253.574346.639347.708265.6550.528336.019235.08538.086181.687212.60532.60548.885243.569318.096214.528357.514279.89169.9483.073211.545142.343197.382201.9477.965276.335331.14464.45170.132356.8495.97435.23653.3983.54251.923196.78166.00582.905329.314157.41676.581265.422297.85599.2083.379202.675256.537126.819330.12312.0419.211149.782159.585203.078148.273212.013293.9298.154139.387167.423-186.198163.774278.392249.51288.09661.68339.26236.76634.12366.74135.635139.1522.0826.84215.464167.386128.659232.221203.949254.532276.189188.71394.375201.057187.928143.4346.404174.947238.01958.901150.05734.32245.78243.122231.851191.708129.963165.4097.358342.645286.901121.2184.723319.48890.864135.45163.42941.543159.91330.05160.49479.854219.824323.778283.331127.483284.229305.66293.087280.53913.51263.087127.145166.544271.784262.157332.861152.526341.44719.997174.382263.623332.14561.73515.23220.688267.089204.82350.84191.717245.25150.6583.857356.904316.221298.83322.053179.794180.776120.19877.906128.988142.77332.626245.687103.408112.156263.12771.923256.268295.652301.595162.249179.274183.1280.087280.005171.254288.616221.652212.76398.809190.502234.49304.166235.996168.107287.414198.238176.939330.21348.364164.41713.661234.923149.438103.57571.122265.857170.073286.389280.339319.48216.418120.2633.074349.37150.695289.705122.561146.69815.69799.42112.766183.821168.71107.311195.034164.217147.603259.851236.942311.679161.96778.17225.966150.277109.08211.916132.1920.36776.808329.363344.431214.01793.62265.0841.19229.29119.664299.70457.169120.9472.0556.85217.13983.18938.53776.188272.498271.012349.223337.647147.426213.613336.974233.722227.538319.67567.4285.677255.265183.609271.03221.034341.91342.34230.34249.635291.34782.961292.271203.96897.549218.297119.577278.481221.62483.191194.484187.627111.353314.713107.554140.0157.496327.511288.96249.044326.481292.661188.539152.305221.601190.396216.603311.505173.658192.625260.447128.173324.99138.995126.661277.004175.51589.159244.281198.787253.448285.497254.84610.076160.24198.39439.26111.8239.30910.33289.374131.674188.044312.599-138.754198.283195.058250.86639.16792.859222.804122.665222.453144.563208.614356.883128.599322.744.049241.93225.05493.60187.535291.10376.7216.3643.81291.802221.5440.384193.63848.133238.021112.184142.029-206.627271.168199.554127.244--56.3539.731171.571108.133281.14141.088146.071304.63949.26913.01249.01740.67277.163202.8278.027.096147.423322.636231.171349.939286.26186.373201.799228.81320.177227.231252.972186.071289.36646.564250.1276.806319.172102.942194.365197.276127.001195.3165.439145.032290.723207.592134.86356.975134.4175145.5409281.843184.049252.333209.293344.49730.653253.86269.521104.129105.166124.23381.328145.321326.76437.851330.999188.498325.129232.114211.91510.58585.23667.369301.309131.573344.005355.305332.714278.937332.35469.268156.4770.973348.94829.618345.08144.464290.54498.473296.10875.135253.1038.304190.725135.02841.186207.281341.9647.606215.898192.454358.635182.42627.94170.049197.09392.387269.80135.907220.256330.79214.233230.06260.6789.038179.58117.474218.8357.224181.914184.415273.128343.33620.723274.963259.771224.41453.776152.6824.597249.39292.18134.536250.166172.22286.85924.274139.405309.28287.568355.671321.555283.436147.604296.278144.77525196.654305.351137.0691.715272.459138.57974.5314.9173.15183.095196.118355.278149.045134.398214.991.984157.541236.438279.475116.77467.90158.86643.486147.524140.387173.957171.091194.307311.435190.095168.62153.708177.787195.575326.8256.7913.473300.589228.519307.33431.61783.216270.896170.772271.90363.598248.7570.481288.82166.645260.204276.029136.606303.781234.758181.042213.66146.4357.966275.73574.736235.887250.6928.31282.133273.976199.69257.184241.273216.536233.951314.223269.53144.83313.078137.085245.193230.489313.089355.412167.975169.598331.7194.703339.35380.338352.3170.886126.723214.288197.016148.692283.002136.915187.4024235.00254.30242.45858.057241.607246.854273.906291.081212.517251.812258.551273.075219.12347.549122.42620.03340.937129.862319.764130.057300.98743.08687.781203.5065249.363120.029124.86216.24317.904366.129276.22476.561150.06313.158179.193222.403349.582310.442153.091191.49314.35290.215192.924134.486336.651190.4854307.415276.057154.845154.74612.702118.248129.487265.691327.11144.785244.256108.927275.871287.029271.482153.82660.439223.315257.745294.09432.57577.548310.83197.0614164.059343.203317.37357.32289.415280.513286.71324.57237.665164.668238.895340.1208286.751308.205271.003282.045120.132134.363261.638132.7995.3112.057320.0452.16497.876133.491291.427186.022197.432251.233326.088356.51211.691338.292279.205157.5260.877150.34345.38641.76842.97869.02513.10822.48712.5492.35535164.603137.489193.871348.589329.936299.89134.15579.295245.8770.2037285.93912.25974.586241.297167.5481.955155.921172.991303.193292.218347166.3966.465317.949189.607291.37748.274328.882223.0370.672289.25315.66473.950628.69731.542172.90748.62627.25220.706351.73822.47955.283299.8462.48244.05188.753154.187290.029166.468194.569112.319255.209133.639245.693225.94315.796315.30984.618177.208263.534350.617311.1188333330.777230.7926.99304.7999328.821169.60676.263255.57589.171299.161209.453136.471296.09256.358191.59266.223356.8264290.813302.98798.612107.59932.309163.499251.953168.373195.50483.467154.202154.263124.32349.379356.44547.168141.38596.225299.30811.283.333247.029112.366132.914655.79829.4110.295138.8312203.14936.58130.945257.751137.8133112.75309.252208.72372.62260.166276.657339.24175.72732.191298.669251.1117.71256.494343.92946.31354.5126.582237.99188.046264.194100.855265.0108.29418.435128.67163.965964.4964.7488239.613225.065353.2328.665273.74129.644315.917248.681203.694251.337152.10270.09793.522289.944154.632175.888237.0382.2626313.45510.987294.008191.194252.07178.672179.4212.44611.613142.317119.957138.246164.166333.552241.422210.67290.573189.082189.531148.891294.746197.006269.32225.91209.68734.993334.95668.979239.23395.095350.9290.87190.69198.4284.978183.545245.007231.204241.764338.142220.91792.051269.1053.8486.79449.865164.00332.067251.656284.8075302.409128.24837.3339.477120.47822.74815.801328.082168.23170.485349.7735228.789233.07120.8332.075323.52689.28282.572330.7983.95224100.5331.17895.836346.776121.893245.29827.891226.584230.20914.582255.572530.184220.363279.968339.963262.3758276.57695.061265.221163.632336.289121.8213.08817.91165.741228.055301.746287.66386.79209.28163.56356.783314.231328.675270.72932.638276.871208.416121.699176.8354274.461224.481188.1048.25932.627101.822313.049355.61645.944298.4423237.667173.806213.2742194.964262.13236.96176.554279.40919.177268.44920.769280.179102.274120.6613.166322.82233.721329.467286.686165.33126.51326.138287.30137.96184.304114.678162.597169.27880.49277.906177.76399.479259.006217.919206.352155.124220.04136.629112.019199.221228.22177.927355.941231.145251.259207.51498.261261.632105.297338.974137.235225.254758.132220.039276.576299.839335.02639.218260.213289.913295.648.1796.399119.828354.163355.065340.573119.666164.685279.5018.395338.054150.531288.04151.571335.294301.857149.707253.218184.6230.127100.968293.923228.73725.8198.952189.947203.7676.761245.05736.903328.58156.29617.62927.82433.1283.14457.85342.933267.67354.707115.271323.80632.09644.3077261.716121.3552.0046.714283.717242.659121.886193.255254.219277.556237.874312.832347.203328.006297.69528.871121.245315.709182.755181.525107.342198.956269.53365.11340.33748.48687.5411263.6848148.154120.578178.988153.45334.8260.2246.213197.89136.99533.503117.850.934159.422352.581105.353358.254149.26160.403144.521105.255332.07986.615303.837147.228323.912336.284148.39497.193270.992300.9121145.14691.67546.299110.99897.795220.356263.148329.547263.926346.122238.193254.623276.95.28531.82840.70958.218237.731287.1575818.132221.338111.89252.52220.928112.219212.98995.28716.64418.42170.857227.855184.0677.831357.069320.87742.043329.705322.128337.224149.579232.834322.95471.17127.277195.748239.25995.8689.911331.772278.927240.937328.374235.369123.54124.1777.359343.629236.431291.287282.338174.421274.23176.37966.62545.7841.097254.23855.186241.85150.3875.08558.38157.727202.933211.805103.46335.80977.097179.75137.488327.91284.69854.007286.456276.19372.737282.735147.013297.485328.839125.231312.378328.715252.084345.688330.19285.205228.398226.29187.242348.136345.469330.316265.279-359.0126.05929.1132.123122.814270.513202.865110.807350.984303.49317.3835.79135.979219.10981.68813.7120.45752.80213.7764.29487.76112.26451.106135.607337.416358.751293.584264.196242.001350.65219.283204.144212.069200.024246.175253.453214.348338.593155.641169.69143.5863307.821320.58577.722227.241300.1839.982353.524278.142200.1468192.5087189.046310.57348.063141.76200.9986142.535324.507307.34144.334133.848188.485181.09989.757180.56334.41247.8736.871154.17249.695306.476282.309271.39481.306166.416174.463348.403290.584219.587278.115192.877358.479336.64279.68956.192100.204291.288343.926167.6746.154164.793 to numeric",
      "\nDuring handling of the above exception, another exception occurred:\n",
      "\u001b[0;31mValueError\u001b[0m                                Traceback (most recent call last)",
      "\u001b[0;32m~/Installs/anaconda3/lib/python3.7/site-packages/pandas/core/nanops.py\u001b[0m in \u001b[0;36m_ensure_numeric\u001b[0;34m(x)\u001b[0m\n\u001b[1;32m    821\u001b[0m         \u001b[0;32mtry\u001b[0m\u001b[0;34m:\u001b[0m\u001b[0;34m\u001b[0m\u001b[0;34m\u001b[0m\u001b[0m\n\u001b[0;32m--> 822\u001b[0;31m             \u001b[0mx\u001b[0m \u001b[0;34m=\u001b[0m \u001b[0mfloat\u001b[0m\u001b[0;34m(\u001b[0m\u001b[0mx\u001b[0m\u001b[0;34m)\u001b[0m\u001b[0;34m\u001b[0m\u001b[0;34m\u001b[0m\u001b[0m\n\u001b[0m\u001b[1;32m    823\u001b[0m         \u001b[0;32mexcept\u001b[0m \u001b[0mException\u001b[0m\u001b[0;34m:\u001b[0m\u001b[0;34m\u001b[0m\u001b[0;34m\u001b[0m\u001b[0m\n",
      "\u001b[0;31mValueError\u001b[0m: could not convert string to float: '91.038274.26268.704210.3587.739104.227169.698245.839299.71225.877167.575253.574346.639347.708265.6550.528336.019235.08538.086181.687212.60532.60548.885243.569318.096214.528357.514279.89169.9483.073211.545142.343197.382201.9477.965276.335331.14464.45170.132356.8495.97435.23653.3983.54251.923196.78166.00582.905329.314157.41676.581265.422297.85599.2083.379202.675256.537126.819330.12312.0419.211149.782159.585203.078148.273212.013293.9298.154139.387167.423-186.198163.774278.392249.51288.09661.68339.26236.76634.12366.74135.635139.1522.0826.84215.464167.386128.659232.221203.949254.532276.189188.71394.375201.057187.928143.4346.404174.947238.01958.901150.05734.32245.78243.122231.851191.708129.963165.4097.358342.645286.901121.2184.723319.48890.864135.45163.42941.543159.91330.05160.49479.854219.824323.778283.331127.483284.229305.66293.087280.53913.51263.087127.145166.544271.784262.157332.861152.526341.44719.997174.382263.623332.14561.73515.23220.688267.089204.82350.84191.717245.25150.6583.857356.904316.221298.83322.053179.794180.776120.19877.906128.988142.77332.626245.687103.408112.156263.12771.923256.268295.652301.595162.249179.274183.1280.087280.005171.254288.616221.652212.76398.809190.502234.49304.166235.996168.107287.414198.238176.939330.21348.364164.41713.661234.923149.438103.57571.122265.857170.073286.389280.339319.48216.418120.2633.074349.37150.695289.705122.561146.69815.69799.42112.766183.821168.71107.311195.034164.217147.603259.851236.942311.679161.96778.17225.966150.277109.08211.916132.1920.36776.808329.363344.431214.01793.62265.0841.19229.29119.664299.70457.169120.9472.0556.85217.13983.18938.53776.188272.498271.012349.223337.647147.426213.613336.974233.722227.538319.67567.4285.677255.265183.609271.03221.034341.91342.34230.34249.635291.34782.961292.271203.96897.549218.297119.577278.481221.62483.191194.484187.627111.353314.713107.554140.0157.496327.511288.96249.044326.481292.661188.539152.305221.601190.396216.603311.505173.658192.625260.447128.173324.99138.995126.661277.004175.51589.159244.281198.787253.448285.497254.84610.076160.24198.39439.26111.8239.30910.33289.374131.674188.044312.599-138.754198.283195.058250.86639.16792.859222.804122.665222.453144.563208.614356.883128.599322.744.049241.93225.05493.60187.535291.10376.7216.3643.81291.802221.5440.384193.63848.133238.021112.184142.029-206.627271.168199.554127.244--56.3539.731171.571108.133281.14141.088146.071304.63949.26913.01249.01740.67277.163202.8278.027.096147.423322.636231.171349.939286.26186.373201.799228.81320.177227.231252.972186.071289.36646.564250.1276.806319.172102.942194.365197.276127.001195.3165.439145.032290.723207.592134.86356.975134.4175145.5409281.843184.049252.333209.293344.49730.653253.86269.521104.129105.166124.23381.328145.321326.76437.851330.999188.498325.129232.114211.91510.58585.23667.369301.309131.573344.005355.305332.714278.937332.35469.268156.4770.973348.94829.618345.08144.464290.54498.473296.10875.135253.1038.304190.725135.02841.186207.281341.9647.606215.898192.454358.635182.42627.94170.049197.09392.387269.80135.907220.256330.79214.233230.06260.6789.038179.58117.474218.8357.224181.914184.415273.128343.33620.723274.963259.771224.41453.776152.6824.597249.39292.18134.536250.166172.22286.85924.274139.405309.28287.568355.671321.555283.436147.604296.278144.77525196.654305.351137.0691.715272.459138.57974.5314.9173.15183.095196.118355.278149.045134.398214.991.984157.541236.438279.475116.77467.90158.86643.486147.524140.387173.957171.091194.307311.435190.095168.62153.708177.787195.575326.8256.7913.473300.589228.519307.33431.61783.216270.896170.772271.90363.598248.7570.481288.82166.645260.204276.029136.606303.781234.758181.042213.66146.4357.966275.73574.736235.887250.6928.31282.133273.976199.69257.184241.273216.536233.951314.223269.53144.83313.078137.085245.193230.489313.089355.412167.975169.598331.7194.703339.35380.338352.3170.886126.723214.288197.016148.692283.002136.915187.4024235.00254.30242.45858.057241.607246.854273.906291.081212.517251.812258.551273.075219.12347.549122.42620.03340.937129.862319.764130.057300.98743.08687.781203.5065249.363120.029124.86216.24317.904366.129276.22476.561150.06313.158179.193222.403349.582310.442153.091191.49314.35290.215192.924134.486336.651190.4854307.415276.057154.845154.74612.702118.248129.487265.691327.11144.785244.256108.927275.871287.029271.482153.82660.439223.315257.745294.09432.57577.548310.83197.0614164.059343.203317.37357.32289.415280.513286.71324.57237.665164.668238.895340.1208286.751308.205271.003282.045120.132134.363261.638132.7995.3112.057320.0452.16497.876133.491291.427186.022197.432251.233326.088356.51211.691338.292279.205157.5260.877150.34345.38641.76842.97869.02513.10822.48712.5492.35535164.603137.489193.871348.589329.936299.89134.15579.295245.8770.2037285.93912.25974.586241.297167.5481.955155.921172.991303.193292.218347166.3966.465317.949189.607291.37748.274328.882223.0370.672289.25315.66473.950628.69731.542172.90748.62627.25220.706351.73822.47955.283299.8462.48244.05188.753154.187290.029166.468194.569112.319255.209133.639245.693225.94315.796315.30984.618177.208263.534350.617311.1188333330.777230.7926.99304.7999328.821169.60676.263255.57589.171299.161209.453136.471296.09256.358191.59266.223356.8264290.813302.98798.612107.59932.309163.499251.953168.373195.50483.467154.202154.263124.32349.379356.44547.168141.38596.225299.30811.283.333247.029112.366132.914655.79829.4110.295138.8312203.14936.58130.945257.751137.8133112.75309.252208.72372.62260.166276.657339.24175.72732.191298.669251.1117.71256.494343.92946.31354.5126.582237.99188.046264.194100.855265.0108.29418.435128.67163.965964.4964.7488239.613225.065353.2328.665273.74129.644315.917248.681203.694251.337152.10270.09793.522289.944154.632175.888237.0382.2626313.45510.987294.008191.194252.07178.672179.4212.44611.613142.317119.957138.246164.166333.552241.422210.67290.573189.082189.531148.891294.746197.006269.32225.91209.68734.993334.95668.979239.23395.095350.9290.87190.69198.4284.978183.545245.007231.204241.764338.142220.91792.051269.1053.8486.79449.865164.00332.067251.656284.8075302.409128.24837.3339.477120.47822.74815.801328.082168.23170.485349.7735228.789233.07120.8332.075323.52689.28282.572330.7983.95224100.5331.17895.836346.776121.893245.29827.891226.584230.20914.582255.572530.184220.363279.968339.963262.3758276.57695.061265.221163.632336.289121.8213.08817.91165.741228.055301.746287.66386.79209.28163.56356.783314.231328.675270.72932.638276.871208.416121.699176.8354274.461224.481188.1048.25932.627101.822313.049355.61645.944298.4423237.667173.806213.2742194.964262.13236.96176.554279.40919.177268.44920.769280.179102.274120.6613.166322.82233.721329.467286.686165.33126.51326.138287.30137.96184.304114.678162.597169.27880.49277.906177.76399.479259.006217.919206.352155.124220.04136.629112.019199.221228.22177.927355.941231.145251.259207.51498.261261.632105.297338.974137.235225.254758.132220.039276.576299.839335.02639.218260.213289.913295.648.1796.399119.828354.163355.065340.573119.666164.685279.5018.395338.054150.531288.04151.571335.294301.857149.707253.218184.6230.127100.968293.923228.73725.8198.952189.947203.7676.761245.05736.903328.58156.29617.62927.82433.1283.14457.85342.933267.67354.707115.271323.80632.09644.3077261.716121.3552.0046.714283.717242.659121.886193.255254.219277.556237.874312.832347.203328.006297.69528.871121.245315.709182.755181.525107.342198.956269.53365.11340.33748.48687.5411263.6848148.154120.578178.988153.45334.8260.2246.213197.89136.99533.503117.850.934159.422352.581105.353358.254149.26160.403144.521105.255332.07986.615303.837147.228323.912336.284148.39497.193270.992300.9121145.14691.67546.299110.99897.795220.356263.148329.547263.926346.122238.193254.623276.95.28531.82840.70958.218237.731287.1575818.132221.338111.89252.52220.928112.219212.98995.28716.64418.42170.857227.855184.0677.831357.069320.87742.043329.705322.128337.224149.579232.834322.95471.17127.277195.748239.25995.8689.911331.772278.927240.937328.374235.369123.54124.1777.359343.629236.431291.287282.338174.421274.23176.37966.62545.7841.097254.23855.186241.85150.3875.08558.38157.727202.933211.805103.46335.80977.097179.75137.488327.91284.69854.007286.456276.19372.737282.735147.013297.485328.839125.231312.378328.715252.084345.688330.19285.205228.398226.29187.242348.136345.469330.316265.279-359.0126.05929.1132.123122.814270.513202.865110.807350.984303.49317.3835.79135.979219.10981.68813.7120.45752.80213.7764.29487.76112.26451.106135.607337.416358.751293.584264.196242.001350.65219.283204.144212.069200.024246.175253.453214.348338.593155.641169.69143.5863307.821320.58577.722227.241300.1839.982353.524278.142200.1468192.5087189.046310.57348.063141.76200.9986142.535324.507307.34144.334133.848188.485181.09989.757180.56334.41247.8736.871154.17249.695306.476282.309271.39481.306166.416174.463348.403290.584219.587278.115192.877358.479336.64279.68956.192100.204291.288343.926167.6746.154164.793'",
      "\nDuring handling of the above exception, another exception occurred:\n",
      "\u001b[0;31mValueError\u001b[0m                                Traceback (most recent call last)",
      "\u001b[0;32m~/Installs/anaconda3/lib/python3.7/site-packages/pandas/core/nanops.py\u001b[0m in \u001b[0;36m_ensure_numeric\u001b[0;34m(x)\u001b[0m\n\u001b[1;32m    824\u001b[0m             \u001b[0;32mtry\u001b[0m\u001b[0;34m:\u001b[0m\u001b[0;34m\u001b[0m\u001b[0;34m\u001b[0m\u001b[0m\n\u001b[0;32m--> 825\u001b[0;31m                 \u001b[0mx\u001b[0m \u001b[0;34m=\u001b[0m \u001b[0mcomplex\u001b[0m\u001b[0;34m(\u001b[0m\u001b[0mx\u001b[0m\u001b[0;34m)\u001b[0m\u001b[0;34m\u001b[0m\u001b[0;34m\u001b[0m\u001b[0m\n\u001b[0m\u001b[1;32m    826\u001b[0m             \u001b[0;32mexcept\u001b[0m \u001b[0mException\u001b[0m\u001b[0;34m:\u001b[0m\u001b[0;34m\u001b[0m\u001b[0;34m\u001b[0m\u001b[0m\n",
      "\u001b[0;31mValueError\u001b[0m: complex() arg is a malformed string",
      "\nDuring handling of the above exception, another exception occurred:\n",
      "\u001b[0;31mTypeError\u001b[0m                                 Traceback (most recent call last)",
      "\u001b[0;32m<ipython-input-49-a7805a426f04>\u001b[0m in \u001b[0;36m<module>\u001b[0;34m()\u001b[0m\n\u001b[0;32m----> 1\u001b[0;31m \u001b[0mdf\u001b[0m\u001b[0;34m[\u001b[0m\u001b[0;34m'BAT RA (J2000)'\u001b[0m\u001b[0;34m]\u001b[0m\u001b[0;34m.\u001b[0m\u001b[0mmean\u001b[0m\u001b[0;34m(\u001b[0m\u001b[0;34m)\u001b[0m\u001b[0;34m\u001b[0m\u001b[0;34m\u001b[0m\u001b[0m\n\u001b[0m",
      "\u001b[0;32m~/Installs/anaconda3/lib/python3.7/site-packages/pandas/core/generic.py\u001b[0m in \u001b[0;36mstat_func\u001b[0;34m(self, axis, skipna, level, numeric_only, **kwargs)\u001b[0m\n\u001b[1;32m   9611\u001b[0m                                       skipna=skipna)\n\u001b[1;32m   9612\u001b[0m         return self._reduce(f, name, axis=axis, skipna=skipna,\n\u001b[0;32m-> 9613\u001b[0;31m                             numeric_only=numeric_only)\n\u001b[0m\u001b[1;32m   9614\u001b[0m \u001b[0;34m\u001b[0m\u001b[0m\n\u001b[1;32m   9615\u001b[0m     \u001b[0;32mreturn\u001b[0m \u001b[0mset_function_name\u001b[0m\u001b[0;34m(\u001b[0m\u001b[0mstat_func\u001b[0m\u001b[0;34m,\u001b[0m \u001b[0mname\u001b[0m\u001b[0;34m,\u001b[0m \u001b[0mcls\u001b[0m\u001b[0;34m)\u001b[0m\u001b[0;34m\u001b[0m\u001b[0;34m\u001b[0m\u001b[0m\n",
      "\u001b[0;32m~/Installs/anaconda3/lib/python3.7/site-packages/pandas/core/series.py\u001b[0m in \u001b[0;36m_reduce\u001b[0;34m(self, op, name, axis, skipna, numeric_only, filter_type, **kwds)\u001b[0m\n\u001b[1;32m   3219\u001b[0m                                           'numeric_only.'.format(name))\n\u001b[1;32m   3220\u001b[0m             \u001b[0;32mwith\u001b[0m \u001b[0mnp\u001b[0m\u001b[0;34m.\u001b[0m\u001b[0merrstate\u001b[0m\u001b[0;34m(\u001b[0m\u001b[0mall\u001b[0m\u001b[0;34m=\u001b[0m\u001b[0;34m'ignore'\u001b[0m\u001b[0;34m)\u001b[0m\u001b[0;34m:\u001b[0m\u001b[0;34m\u001b[0m\u001b[0;34m\u001b[0m\u001b[0m\n\u001b[0;32m-> 3221\u001b[0;31m                 \u001b[0;32mreturn\u001b[0m \u001b[0mop\u001b[0m\u001b[0;34m(\u001b[0m\u001b[0mdelegate\u001b[0m\u001b[0;34m,\u001b[0m \u001b[0mskipna\u001b[0m\u001b[0;34m=\u001b[0m\u001b[0mskipna\u001b[0m\u001b[0;34m,\u001b[0m \u001b[0;34m**\u001b[0m\u001b[0mkwds\u001b[0m\u001b[0;34m)\u001b[0m\u001b[0;34m\u001b[0m\u001b[0;34m\u001b[0m\u001b[0m\n\u001b[0m\u001b[1;32m   3222\u001b[0m \u001b[0;34m\u001b[0m\u001b[0m\n\u001b[1;32m   3223\u001b[0m         return delegate._reduce(op=op, name=name, axis=axis, skipna=skipna,\n",
      "\u001b[0;32m~/Installs/anaconda3/lib/python3.7/site-packages/pandas/core/nanops.py\u001b[0m in \u001b[0;36m_f\u001b[0;34m(*args, **kwargs)\u001b[0m\n\u001b[1;32m     75\u001b[0m             \u001b[0;32mtry\u001b[0m\u001b[0;34m:\u001b[0m\u001b[0;34m\u001b[0m\u001b[0;34m\u001b[0m\u001b[0m\n\u001b[1;32m     76\u001b[0m                 \u001b[0;32mwith\u001b[0m \u001b[0mnp\u001b[0m\u001b[0;34m.\u001b[0m\u001b[0merrstate\u001b[0m\u001b[0;34m(\u001b[0m\u001b[0minvalid\u001b[0m\u001b[0;34m=\u001b[0m\u001b[0;34m'ignore'\u001b[0m\u001b[0;34m)\u001b[0m\u001b[0;34m:\u001b[0m\u001b[0;34m\u001b[0m\u001b[0;34m\u001b[0m\u001b[0m\n\u001b[0;32m---> 77\u001b[0;31m                     \u001b[0;32mreturn\u001b[0m \u001b[0mf\u001b[0m\u001b[0;34m(\u001b[0m\u001b[0;34m*\u001b[0m\u001b[0margs\u001b[0m\u001b[0;34m,\u001b[0m \u001b[0;34m**\u001b[0m\u001b[0mkwargs\u001b[0m\u001b[0;34m)\u001b[0m\u001b[0;34m\u001b[0m\u001b[0;34m\u001b[0m\u001b[0m\n\u001b[0m\u001b[1;32m     78\u001b[0m             \u001b[0;32mexcept\u001b[0m \u001b[0mValueError\u001b[0m \u001b[0;32mas\u001b[0m \u001b[0me\u001b[0m\u001b[0;34m:\u001b[0m\u001b[0;34m\u001b[0m\u001b[0;34m\u001b[0m\u001b[0m\n\u001b[1;32m     79\u001b[0m                 \u001b[0;31m# we want to transform an object array\u001b[0m\u001b[0;34m\u001b[0m\u001b[0;34m\u001b[0m\u001b[0;34m\u001b[0m\u001b[0m\n",
      "\u001b[0;32m~/Installs/anaconda3/lib/python3.7/site-packages/pandas/core/nanops.py\u001b[0m in \u001b[0;36mf\u001b[0;34m(values, axis, skipna, **kwds)\u001b[0m\n\u001b[1;32m    129\u001b[0m             \u001b[0;32mexcept\u001b[0m \u001b[0mException\u001b[0m\u001b[0;34m:\u001b[0m\u001b[0;34m\u001b[0m\u001b[0;34m\u001b[0m\u001b[0m\n\u001b[1;32m    130\u001b[0m                 \u001b[0;32mtry\u001b[0m\u001b[0;34m:\u001b[0m\u001b[0;34m\u001b[0m\u001b[0;34m\u001b[0m\u001b[0m\n\u001b[0;32m--> 131\u001b[0;31m                     \u001b[0mresult\u001b[0m \u001b[0;34m=\u001b[0m \u001b[0malt\u001b[0m\u001b[0;34m(\u001b[0m\u001b[0mvalues\u001b[0m\u001b[0;34m,\u001b[0m \u001b[0maxis\u001b[0m\u001b[0;34m=\u001b[0m\u001b[0maxis\u001b[0m\u001b[0;34m,\u001b[0m \u001b[0mskipna\u001b[0m\u001b[0;34m=\u001b[0m\u001b[0mskipna\u001b[0m\u001b[0;34m,\u001b[0m \u001b[0;34m**\u001b[0m\u001b[0mkwds\u001b[0m\u001b[0;34m)\u001b[0m\u001b[0;34m\u001b[0m\u001b[0;34m\u001b[0m\u001b[0m\n\u001b[0m\u001b[1;32m    132\u001b[0m                 \u001b[0;32mexcept\u001b[0m \u001b[0mValueError\u001b[0m \u001b[0;32mas\u001b[0m \u001b[0me\u001b[0m\u001b[0;34m:\u001b[0m\u001b[0;34m\u001b[0m\u001b[0;34m\u001b[0m\u001b[0m\n\u001b[1;32m    133\u001b[0m                     \u001b[0;31m# we want to transform an object array\u001b[0m\u001b[0;34m\u001b[0m\u001b[0;34m\u001b[0m\u001b[0;34m\u001b[0m\u001b[0m\n",
      "\u001b[0;32m~/Installs/anaconda3/lib/python3.7/site-packages/pandas/core/nanops.py\u001b[0m in \u001b[0;36mnanmean\u001b[0;34m(values, axis, skipna)\u001b[0m\n\u001b[1;32m    353\u001b[0m         \u001b[0mdtype_count\u001b[0m \u001b[0;34m=\u001b[0m \u001b[0mdtype\u001b[0m\u001b[0;34m\u001b[0m\u001b[0;34m\u001b[0m\u001b[0m\n\u001b[1;32m    354\u001b[0m     \u001b[0mcount\u001b[0m \u001b[0;34m=\u001b[0m \u001b[0m_get_counts\u001b[0m\u001b[0;34m(\u001b[0m\u001b[0mmask\u001b[0m\u001b[0;34m,\u001b[0m \u001b[0maxis\u001b[0m\u001b[0;34m,\u001b[0m \u001b[0mdtype\u001b[0m\u001b[0;34m=\u001b[0m\u001b[0mdtype_count\u001b[0m\u001b[0;34m)\u001b[0m\u001b[0;34m\u001b[0m\u001b[0;34m\u001b[0m\u001b[0m\n\u001b[0;32m--> 355\u001b[0;31m     \u001b[0mthe_sum\u001b[0m \u001b[0;34m=\u001b[0m \u001b[0m_ensure_numeric\u001b[0m\u001b[0;34m(\u001b[0m\u001b[0mvalues\u001b[0m\u001b[0;34m.\u001b[0m\u001b[0msum\u001b[0m\u001b[0;34m(\u001b[0m\u001b[0maxis\u001b[0m\u001b[0;34m,\u001b[0m \u001b[0mdtype\u001b[0m\u001b[0;34m=\u001b[0m\u001b[0mdtype_sum\u001b[0m\u001b[0;34m)\u001b[0m\u001b[0;34m)\u001b[0m\u001b[0;34m\u001b[0m\u001b[0;34m\u001b[0m\u001b[0m\n\u001b[0m\u001b[1;32m    356\u001b[0m \u001b[0;34m\u001b[0m\u001b[0m\n\u001b[1;32m    357\u001b[0m     \u001b[0;32mif\u001b[0m \u001b[0maxis\u001b[0m \u001b[0;32mis\u001b[0m \u001b[0;32mnot\u001b[0m \u001b[0;32mNone\u001b[0m \u001b[0;32mand\u001b[0m \u001b[0mgetattr\u001b[0m\u001b[0;34m(\u001b[0m\u001b[0mthe_sum\u001b[0m\u001b[0;34m,\u001b[0m \u001b[0;34m'ndim'\u001b[0m\u001b[0;34m,\u001b[0m \u001b[0;32mFalse\u001b[0m\u001b[0;34m)\u001b[0m\u001b[0;34m:\u001b[0m\u001b[0;34m\u001b[0m\u001b[0;34m\u001b[0m\u001b[0m\n",
      "\u001b[0;32m~/Installs/anaconda3/lib/python3.7/site-packages/pandas/core/nanops.py\u001b[0m in \u001b[0;36m_ensure_numeric\u001b[0;34m(x)\u001b[0m\n\u001b[1;32m    826\u001b[0m             \u001b[0;32mexcept\u001b[0m \u001b[0mException\u001b[0m\u001b[0;34m:\u001b[0m\u001b[0;34m\u001b[0m\u001b[0;34m\u001b[0m\u001b[0m\n\u001b[1;32m    827\u001b[0m                 raise TypeError('Could not convert {value!s} to numeric'\n\u001b[0;32m--> 828\u001b[0;31m                                 .format(value=x))\n\u001b[0m\u001b[1;32m    829\u001b[0m     \u001b[0;32mreturn\u001b[0m \u001b[0mx\u001b[0m\u001b[0;34m\u001b[0m\u001b[0;34m\u001b[0m\u001b[0m\n\u001b[1;32m    830\u001b[0m \u001b[0;34m\u001b[0m\u001b[0m\n",
      "\u001b[0;31mTypeError\u001b[0m: Could not convert 91.038274.26268.704210.3587.739104.227169.698245.839299.71225.877167.575253.574346.639347.708265.6550.528336.019235.08538.086181.687212.60532.60548.885243.569318.096214.528357.514279.89169.9483.073211.545142.343197.382201.9477.965276.335331.14464.45170.132356.8495.97435.23653.3983.54251.923196.78166.00582.905329.314157.41676.581265.422297.85599.2083.379202.675256.537126.819330.12312.0419.211149.782159.585203.078148.273212.013293.9298.154139.387167.423-186.198163.774278.392249.51288.09661.68339.26236.76634.12366.74135.635139.1522.0826.84215.464167.386128.659232.221203.949254.532276.189188.71394.375201.057187.928143.4346.404174.947238.01958.901150.05734.32245.78243.122231.851191.708129.963165.4097.358342.645286.901121.2184.723319.48890.864135.45163.42941.543159.91330.05160.49479.854219.824323.778283.331127.483284.229305.66293.087280.53913.51263.087127.145166.544271.784262.157332.861152.526341.44719.997174.382263.623332.14561.73515.23220.688267.089204.82350.84191.717245.25150.6583.857356.904316.221298.83322.053179.794180.776120.19877.906128.988142.77332.626245.687103.408112.156263.12771.923256.268295.652301.595162.249179.274183.1280.087280.005171.254288.616221.652212.76398.809190.502234.49304.166235.996168.107287.414198.238176.939330.21348.364164.41713.661234.923149.438103.57571.122265.857170.073286.389280.339319.48216.418120.2633.074349.37150.695289.705122.561146.69815.69799.42112.766183.821168.71107.311195.034164.217147.603259.851236.942311.679161.96778.17225.966150.277109.08211.916132.1920.36776.808329.363344.431214.01793.62265.0841.19229.29119.664299.70457.169120.9472.0556.85217.13983.18938.53776.188272.498271.012349.223337.647147.426213.613336.974233.722227.538319.67567.4285.677255.265183.609271.03221.034341.91342.34230.34249.635291.34782.961292.271203.96897.549218.297119.577278.481221.62483.191194.484187.627111.353314.713107.554140.0157.496327.511288.96249.044326.481292.661188.539152.305221.601190.396216.603311.505173.658192.625260.447128.173324.99138.995126.661277.004175.51589.159244.281198.787253.448285.497254.84610.076160.24198.39439.26111.8239.30910.33289.374131.674188.044312.599-138.754198.283195.058250.86639.16792.859222.804122.665222.453144.563208.614356.883128.599322.744.049241.93225.05493.60187.535291.10376.7216.3643.81291.802221.5440.384193.63848.133238.021112.184142.029-206.627271.168199.554127.244--56.3539.731171.571108.133281.14141.088146.071304.63949.26913.01249.01740.67277.163202.8278.027.096147.423322.636231.171349.939286.26186.373201.799228.81320.177227.231252.972186.071289.36646.564250.1276.806319.172102.942194.365197.276127.001195.3165.439145.032290.723207.592134.86356.975134.4175145.5409281.843184.049252.333209.293344.49730.653253.86269.521104.129105.166124.23381.328145.321326.76437.851330.999188.498325.129232.114211.91510.58585.23667.369301.309131.573344.005355.305332.714278.937332.35469.268156.4770.973348.94829.618345.08144.464290.54498.473296.10875.135253.1038.304190.725135.02841.186207.281341.9647.606215.898192.454358.635182.42627.94170.049197.09392.387269.80135.907220.256330.79214.233230.06260.6789.038179.58117.474218.8357.224181.914184.415273.128343.33620.723274.963259.771224.41453.776152.6824.597249.39292.18134.536250.166172.22286.85924.274139.405309.28287.568355.671321.555283.436147.604296.278144.77525196.654305.351137.0691.715272.459138.57974.5314.9173.15183.095196.118355.278149.045134.398214.991.984157.541236.438279.475116.77467.90158.86643.486147.524140.387173.957171.091194.307311.435190.095168.62153.708177.787195.575326.8256.7913.473300.589228.519307.33431.61783.216270.896170.772271.90363.598248.7570.481288.82166.645260.204276.029136.606303.781234.758181.042213.66146.4357.966275.73574.736235.887250.6928.31282.133273.976199.69257.184241.273216.536233.951314.223269.53144.83313.078137.085245.193230.489313.089355.412167.975169.598331.7194.703339.35380.338352.3170.886126.723214.288197.016148.692283.002136.915187.4024235.00254.30242.45858.057241.607246.854273.906291.081212.517251.812258.551273.075219.12347.549122.42620.03340.937129.862319.764130.057300.98743.08687.781203.5065249.363120.029124.86216.24317.904366.129276.22476.561150.06313.158179.193222.403349.582310.442153.091191.49314.35290.215192.924134.486336.651190.4854307.415276.057154.845154.74612.702118.248129.487265.691327.11144.785244.256108.927275.871287.029271.482153.82660.439223.315257.745294.09432.57577.548310.83197.0614164.059343.203317.37357.32289.415280.513286.71324.57237.665164.668238.895340.1208286.751308.205271.003282.045120.132134.363261.638132.7995.3112.057320.0452.16497.876133.491291.427186.022197.432251.233326.088356.51211.691338.292279.205157.5260.877150.34345.38641.76842.97869.02513.10822.48712.5492.35535164.603137.489193.871348.589329.936299.89134.15579.295245.8770.2037285.93912.25974.586241.297167.5481.955155.921172.991303.193292.218347166.3966.465317.949189.607291.37748.274328.882223.0370.672289.25315.66473.950628.69731.542172.90748.62627.25220.706351.73822.47955.283299.8462.48244.05188.753154.187290.029166.468194.569112.319255.209133.639245.693225.94315.796315.30984.618177.208263.534350.617311.1188333330.777230.7926.99304.7999328.821169.60676.263255.57589.171299.161209.453136.471296.09256.358191.59266.223356.8264290.813302.98798.612107.59932.309163.499251.953168.373195.50483.467154.202154.263124.32349.379356.44547.168141.38596.225299.30811.283.333247.029112.366132.914655.79829.4110.295138.8312203.14936.58130.945257.751137.8133112.75309.252208.72372.62260.166276.657339.24175.72732.191298.669251.1117.71256.494343.92946.31354.5126.582237.99188.046264.194100.855265.0108.29418.435128.67163.965964.4964.7488239.613225.065353.2328.665273.74129.644315.917248.681203.694251.337152.10270.09793.522289.944154.632175.888237.0382.2626313.45510.987294.008191.194252.07178.672179.4212.44611.613142.317119.957138.246164.166333.552241.422210.67290.573189.082189.531148.891294.746197.006269.32225.91209.68734.993334.95668.979239.23395.095350.9290.87190.69198.4284.978183.545245.007231.204241.764338.142220.91792.051269.1053.8486.79449.865164.00332.067251.656284.8075302.409128.24837.3339.477120.47822.74815.801328.082168.23170.485349.7735228.789233.07120.8332.075323.52689.28282.572330.7983.95224100.5331.17895.836346.776121.893245.29827.891226.584230.20914.582255.572530.184220.363279.968339.963262.3758276.57695.061265.221163.632336.289121.8213.08817.91165.741228.055301.746287.66386.79209.28163.56356.783314.231328.675270.72932.638276.871208.416121.699176.8354274.461224.481188.1048.25932.627101.822313.049355.61645.944298.4423237.667173.806213.2742194.964262.13236.96176.554279.40919.177268.44920.769280.179102.274120.6613.166322.82233.721329.467286.686165.33126.51326.138287.30137.96184.304114.678162.597169.27880.49277.906177.76399.479259.006217.919206.352155.124220.04136.629112.019199.221228.22177.927355.941231.145251.259207.51498.261261.632105.297338.974137.235225.254758.132220.039276.576299.839335.02639.218260.213289.913295.648.1796.399119.828354.163355.065340.573119.666164.685279.5018.395338.054150.531288.04151.571335.294301.857149.707253.218184.6230.127100.968293.923228.73725.8198.952189.947203.7676.761245.05736.903328.58156.29617.62927.82433.1283.14457.85342.933267.67354.707115.271323.80632.09644.3077261.716121.3552.0046.714283.717242.659121.886193.255254.219277.556237.874312.832347.203328.006297.69528.871121.245315.709182.755181.525107.342198.956269.53365.11340.33748.48687.5411263.6848148.154120.578178.988153.45334.8260.2246.213197.89136.99533.503117.850.934159.422352.581105.353358.254149.26160.403144.521105.255332.07986.615303.837147.228323.912336.284148.39497.193270.992300.9121145.14691.67546.299110.99897.795220.356263.148329.547263.926346.122238.193254.623276.95.28531.82840.70958.218237.731287.1575818.132221.338111.89252.52220.928112.219212.98995.28716.64418.42170.857227.855184.0677.831357.069320.87742.043329.705322.128337.224149.579232.834322.95471.17127.277195.748239.25995.8689.911331.772278.927240.937328.374235.369123.54124.1777.359343.629236.431291.287282.338174.421274.23176.37966.62545.7841.097254.23855.186241.85150.3875.08558.38157.727202.933211.805103.46335.80977.097179.75137.488327.91284.69854.007286.456276.19372.737282.735147.013297.485328.839125.231312.378328.715252.084345.688330.19285.205228.398226.29187.242348.136345.469330.316265.279-359.0126.05929.1132.123122.814270.513202.865110.807350.984303.49317.3835.79135.979219.10981.68813.7120.45752.80213.7764.29487.76112.26451.106135.607337.416358.751293.584264.196242.001350.65219.283204.144212.069200.024246.175253.453214.348338.593155.641169.69143.5863307.821320.58577.722227.241300.1839.982353.524278.142200.1468192.5087189.046310.57348.063141.76200.9986142.535324.507307.34144.334133.848188.485181.09989.757180.56334.41247.8736.871154.17249.695306.476282.309271.39481.306166.416174.463348.403290.584219.587278.115192.877358.479336.64279.68956.192100.204291.288343.926167.6746.154164.793 to numeric"
     ]
    }
   ],
   "source": [
    "df['BAT RA (J2000)'].mean()"
   ]
  },
  {
   "cell_type": "code",
   "execution_count": 50,
   "metadata": {},
   "outputs": [
    {
     "name": "stdout",
     "output_type": "stream",
     "text": [
      "<class 'pandas.core.frame.DataFrame'>\n",
      "RangeIndex: 1352 entries, 0 to 1351\n",
      "Data columns (total 12 columns):\n",
      "GRB                                                      1352 non-null object\n",
      "Swift Trigger Number                                     1352 non-null object\n",
      "BAT RA (J2000)                                           1352 non-null object\n",
      "BAT Dec (J2000)                                          1352 non-null object\n",
      "BAT T90                                                  1352 non-null object\n",
      "BAT Fluence (15-150 keV)                                 1352 non-null object\n",
      "BAT Photon Index (15-150 keV) (PL = simple power-law)    1352 non-null object\n",
      "Swift Comments                                           1352 non-null object\n",
      "Redshift                                                 1352 non-null object\n",
      "Host Galaxy                                              1351 non-null object\n",
      "Detection                                                1352 non-null bool\n",
      "BAT RA FLOAT                                             1352 non-null float64\n",
      "dtypes: bool(1), float64(1), object(10)\n",
      "memory usage: 117.6+ KB\n"
     ]
    }
   ],
   "source": [
    "df.info()"
   ]
  },
  {
   "cell_type": "code",
   "execution_count": 51,
   "metadata": {},
   "outputs": [
    {
     "data": {
      "text/plain": [
       "'-4.592'"
      ]
     },
     "execution_count": 51,
     "metadata": {},
     "output_type": "execute_result"
    }
   ],
   "source": [
    "df['BAT Dec (J2000)'].iloc[0]"
   ]
  },
  {
   "cell_type": "code",
   "execution_count": 53,
   "metadata": {},
   "outputs": [
    {
     "ename": "ValueError",
     "evalue": "could not convert string to float: '-'",
     "output_type": "error",
     "traceback": [
      "\u001b[0;31m---------------------------------------------------------------------------\u001b[0m",
      "\u001b[0;31mValueError\u001b[0m                                Traceback (most recent call last)",
      "\u001b[0;32m<ipython-input-53-cfa0326de665>\u001b[0m in \u001b[0;36m<module>\u001b[0;34m()\u001b[0m\n\u001b[0;32m----> 1\u001b[0;31m \u001b[0mdf\u001b[0m\u001b[0;34m[\u001b[0m\u001b[0;34m'BAT DEC FLOAT'\u001b[0m\u001b[0;34m]\u001b[0m \u001b[0;34m=\u001b[0m \u001b[0mdf\u001b[0m\u001b[0;34m[\u001b[0m\u001b[0;34m'BAT Dec (J2000)'\u001b[0m\u001b[0;34m]\u001b[0m\u001b[0;34m.\u001b[0m\u001b[0mapply\u001b[0m\u001b[0;34m(\u001b[0m\u001b[0;32mlambda\u001b[0m \u001b[0ms\u001b[0m \u001b[0;34m:\u001b[0m \u001b[0mfloat\u001b[0m\u001b[0;34m(\u001b[0m\u001b[0ms\u001b[0m\u001b[0;34m)\u001b[0m\u001b[0;34m)\u001b[0m\u001b[0;34m\u001b[0m\u001b[0;34m\u001b[0m\u001b[0m\n\u001b[0m",
      "\u001b[0;32m~/Installs/anaconda3/lib/python3.7/site-packages/pandas/core/series.py\u001b[0m in \u001b[0;36mapply\u001b[0;34m(self, func, convert_dtype, args, **kwds)\u001b[0m\n\u001b[1;32m   3192\u001b[0m             \u001b[0;32melse\u001b[0m\u001b[0;34m:\u001b[0m\u001b[0;34m\u001b[0m\u001b[0;34m\u001b[0m\u001b[0m\n\u001b[1;32m   3193\u001b[0m                 \u001b[0mvalues\u001b[0m \u001b[0;34m=\u001b[0m \u001b[0mself\u001b[0m\u001b[0;34m.\u001b[0m\u001b[0mastype\u001b[0m\u001b[0;34m(\u001b[0m\u001b[0mobject\u001b[0m\u001b[0;34m)\u001b[0m\u001b[0;34m.\u001b[0m\u001b[0mvalues\u001b[0m\u001b[0;34m\u001b[0m\u001b[0;34m\u001b[0m\u001b[0m\n\u001b[0;32m-> 3194\u001b[0;31m                 \u001b[0mmapped\u001b[0m \u001b[0;34m=\u001b[0m \u001b[0mlib\u001b[0m\u001b[0;34m.\u001b[0m\u001b[0mmap_infer\u001b[0m\u001b[0;34m(\u001b[0m\u001b[0mvalues\u001b[0m\u001b[0;34m,\u001b[0m \u001b[0mf\u001b[0m\u001b[0;34m,\u001b[0m \u001b[0mconvert\u001b[0m\u001b[0;34m=\u001b[0m\u001b[0mconvert_dtype\u001b[0m\u001b[0;34m)\u001b[0m\u001b[0;34m\u001b[0m\u001b[0;34m\u001b[0m\u001b[0m\n\u001b[0m\u001b[1;32m   3195\u001b[0m \u001b[0;34m\u001b[0m\u001b[0m\n\u001b[1;32m   3196\u001b[0m         \u001b[0;32mif\u001b[0m \u001b[0mlen\u001b[0m\u001b[0;34m(\u001b[0m\u001b[0mmapped\u001b[0m\u001b[0;34m)\u001b[0m \u001b[0;32mand\u001b[0m \u001b[0misinstance\u001b[0m\u001b[0;34m(\u001b[0m\u001b[0mmapped\u001b[0m\u001b[0;34m[\u001b[0m\u001b[0;36m0\u001b[0m\u001b[0;34m]\u001b[0m\u001b[0;34m,\u001b[0m \u001b[0mSeries\u001b[0m\u001b[0;34m)\u001b[0m\u001b[0;34m:\u001b[0m\u001b[0;34m\u001b[0m\u001b[0;34m\u001b[0m\u001b[0m\n",
      "\u001b[0;32mpandas/_libs/src/inference.pyx\u001b[0m in \u001b[0;36mpandas._libs.lib.map_infer\u001b[0;34m()\u001b[0m\n",
      "\u001b[0;32m<ipython-input-53-cfa0326de665>\u001b[0m in \u001b[0;36m<lambda>\u001b[0;34m(s)\u001b[0m\n\u001b[0;32m----> 1\u001b[0;31m \u001b[0mdf\u001b[0m\u001b[0;34m[\u001b[0m\u001b[0;34m'BAT DEC FLOAT'\u001b[0m\u001b[0;34m]\u001b[0m \u001b[0;34m=\u001b[0m \u001b[0mdf\u001b[0m\u001b[0;34m[\u001b[0m\u001b[0;34m'BAT Dec (J2000)'\u001b[0m\u001b[0;34m]\u001b[0m\u001b[0;34m.\u001b[0m\u001b[0mapply\u001b[0m\u001b[0;34m(\u001b[0m\u001b[0;32mlambda\u001b[0m \u001b[0ms\u001b[0m \u001b[0;34m:\u001b[0m \u001b[0mfloat\u001b[0m\u001b[0;34m(\u001b[0m\u001b[0ms\u001b[0m\u001b[0;34m)\u001b[0m\u001b[0;34m)\u001b[0m\u001b[0;34m\u001b[0m\u001b[0;34m\u001b[0m\u001b[0m\n\u001b[0m",
      "\u001b[0;31mValueError\u001b[0m: could not convert string to float: '-'"
     ]
    }
   ],
   "source": [
    "df['BAT DEC FLOAT'] = df['BAT Dec (J2000)'].apply(lambda s : float(s))"
   ]
  },
  {
   "cell_type": "code",
   "execution_count": null,
   "metadata": {},
   "outputs": [],
   "source": [
    "def bat_to_float(str):\n",
    "    floatVal = 0;\n",
    "    try:\n",
    "        floatVal = float(str)\n",
    "    except:\n",
    "        print(str)\n",
    "        floatVal = 0\n",
    "    return floatVal"
   ]
  },
  {
   "cell_type": "code",
   "execution_count": 54,
   "metadata": {},
   "outputs": [
    {
     "data": {
      "text/plain": [
       "<matplotlib.axes._subplots.AxesSubplot at 0x1a18680630>"
      ]
     },
     "execution_count": 54,
     "metadata": {},
     "output_type": "execute_result"
    },
    {
     "data": {
      "image/png": "[encoded data removed]",
      "text/plain": [
       "<Figure size 432x288 with 1 Axes>"
      ]
     },
     "metadata": {
      "needs_background": "light"
     },
     "output_type": "display_data"
    }
   ],
   "source": [
    "sns.countplot(x='BAT Dec (J2000)', data=df, hue='Detection')\n"
   ]
  },
  {
   "cell_type": "code",
   "execution_count": null,
   "metadata": {},
   "outputs": [],
   "source": [
    "sns.countplot(x='BAT Dec (J2000)', data=df, hue='Detection')\n",
    "plt.tight_layout()"
   ]
  },
  {
   "cell_type": "code",
   "execution_count": null,
   "metadata": {},
   "outputs": [],
   "source": [
    "sns.countplot(x='BAT DEC FLOAT', data=df, hue='Detection')\n",
    "plt.tight_layout()"
   ]
  },
  {
   "cell_type": "code",
   "execution_count": null,
   "metadata": {},
   "outputs": [],
   "source": [
    "df.info()"
   ]
  },
  {
   "cell_type": "code",
   "execution_count": null,
   "metadata": {},
   "outputs": [],
   "source": []
  },
  {
   "cell_type": "code",
   "execution_count": null,
   "metadata": {},
   "outputs": [],
   "source": []
  },
  {
   "cell_type": "code",
   "execution_count": null,
   "metadata": {},
   "outputs": [],
   "source": []
  },
  {
   "cell_type": "code",
   "execution_count": null,
   "metadata": {},
   "outputs": [],
   "source": []
  },
  {
   "cell_type": "code",
   "execution_count": null,
   "metadata": {},
   "outputs": [],
   "source": []
  },
  {
   "cell_type": "code",
   "execution_count": null,
   "metadata": {},
   "outputs": [],
   "source": []
  },
  {
   "cell_type": "code",
   "execution_count": null,
   "metadata": {},
   "outputs": [],
   "source": []
  },
  {
   "cell_type": "code",
   "execution_count": null,
   "metadata": {},
   "outputs": [
    {
     "ename": "AttributeError",
     "evalue": "'str' object has no attribute 'conjugate'",
     "output_type": "error",
     "traceback": [
      "\u001b[0;31m---------------------------------------------------------------------------\u001b[0m",
      "\u001b[0;31mAttributeError\u001b[0m                            Traceback (most recent call last)",
      "\u001b[0;32m<ipython-input-57-3d6806cd30bb>\u001b[0m in \u001b[0;36m<module>\u001b[0;34m()\u001b[0m\n\u001b[0;32m----> 1\u001b[0;31m \u001b[0msns\u001b[0m\u001b[0;34m.\u001b[0m\u001b[0mlmplot\u001b[0m\u001b[0;34m(\u001b[0m\u001b[0mx\u001b[0m\u001b[0;34m=\u001b[0m\u001b[0;34m'BAT RA (J2000)'\u001b[0m\u001b[0;34m,\u001b[0m \u001b[0my\u001b[0m\u001b[0;34m=\u001b[0m\u001b[0;34m'Detection'\u001b[0m\u001b[0;34m,\u001b[0m \u001b[0mdata\u001b[0m\u001b[0;34m=\u001b[0m\u001b[0mdf\u001b[0m\u001b[0;34m)\u001b[0m\u001b[0;34m\u001b[0m\u001b[0;34m\u001b[0m\u001b[0m\n\u001b[0m",
      "\u001b[0;32m~/Installs/anaconda3/lib/python3.7/site-packages/seaborn/regression.py\u001b[0m in \u001b[0;36mlmplot\u001b[0;34m(x, y, data, hue, col, row, palette, col_wrap, height, aspect, markers, sharex, sharey, hue_order, col_order, row_order, legend, legend_out, x_estimator, x_bins, x_ci, scatter, fit_reg, ci, n_boot, units, order, logistic, lowess, robust, logx, x_partial, y_partial, truncate, x_jitter, y_jitter, scatter_kws, line_kws, size)\u001b[0m\n\u001b[1;32m    587\u001b[0m         \u001b[0mscatter_kws\u001b[0m\u001b[0;34m=\u001b[0m\u001b[0mscatter_kws\u001b[0m\u001b[0;34m,\u001b[0m \u001b[0mline_kws\u001b[0m\u001b[0;34m=\u001b[0m\u001b[0mline_kws\u001b[0m\u001b[0;34m,\u001b[0m\u001b[0;34m\u001b[0m\u001b[0;34m\u001b[0m\u001b[0m\n\u001b[1;32m    588\u001b[0m         )\n\u001b[0;32m--> 589\u001b[0;31m     \u001b[0mfacets\u001b[0m\u001b[0;34m.\u001b[0m\u001b[0mmap_dataframe\u001b[0m\u001b[0;34m(\u001b[0m\u001b[0mregplot\u001b[0m\u001b[0;34m,\u001b[0m \u001b[0mx\u001b[0m\u001b[0;34m,\u001b[0m \u001b[0my\u001b[0m\u001b[0;34m,\u001b[0m \u001b[0;34m**\u001b[0m\u001b[0mregplot_kws\u001b[0m\u001b[0;34m)\u001b[0m\u001b[0;34m\u001b[0m\u001b[0;34m\u001b[0m\u001b[0m\n\u001b[0m\u001b[1;32m    590\u001b[0m \u001b[0;34m\u001b[0m\u001b[0m\n\u001b[1;32m    591\u001b[0m     \u001b[0;31m# Add a legend\u001b[0m\u001b[0;34m\u001b[0m\u001b[0;34m\u001b[0m\u001b[0;34m\u001b[0m\u001b[0m\n",
      "\u001b[0;32m~/Installs/anaconda3/lib/python3.7/site-packages/seaborn/axisgrid.py\u001b[0m in \u001b[0;36mmap_dataframe\u001b[0;34m(self, func, *args, **kwargs)\u001b[0m\n\u001b[1;32m    818\u001b[0m \u001b[0;34m\u001b[0m\u001b[0m\n\u001b[1;32m    819\u001b[0m             \u001b[0;31m# Draw the plot\u001b[0m\u001b[0;34m\u001b[0m\u001b[0;34m\u001b[0m\u001b[0;34m\u001b[0m\u001b[0m\n\u001b[0;32m--> 820\u001b[0;31m             \u001b[0mself\u001b[0m\u001b[0;34m.\u001b[0m\u001b[0m_facet_plot\u001b[0m\u001b[0;34m(\u001b[0m\u001b[0mfunc\u001b[0m\u001b[0;34m,\u001b[0m \u001b[0max\u001b[0m\u001b[0;34m,\u001b[0m \u001b[0margs\u001b[0m\u001b[0;34m,\u001b[0m \u001b[0mkwargs\u001b[0m\u001b[0;34m)\u001b[0m\u001b[0;34m\u001b[0m\u001b[0;34m\u001b[0m\u001b[0m\n\u001b[0m\u001b[1;32m    821\u001b[0m \u001b[0;34m\u001b[0m\u001b[0m\n\u001b[1;32m    822\u001b[0m         \u001b[0;31m# Finalize the annotations and layout\u001b[0m\u001b[0;34m\u001b[0m\u001b[0;34m\u001b[0m\u001b[0;34m\u001b[0m\u001b[0m\n",
      "\u001b[0;32m~/Installs/anaconda3/lib/python3.7/site-packages/seaborn/axisgrid.py\u001b[0m in \u001b[0;36m_facet_plot\u001b[0;34m(self, func, ax, plot_args, plot_kwargs)\u001b[0m\n\u001b[1;32m    836\u001b[0m \u001b[0;34m\u001b[0m\u001b[0m\n\u001b[1;32m    837\u001b[0m         \u001b[0;31m# Draw the plot\u001b[0m\u001b[0;34m\u001b[0m\u001b[0;34m\u001b[0m\u001b[0;34m\u001b[0m\u001b[0m\n\u001b[0;32m--> 838\u001b[0;31m         \u001b[0mfunc\u001b[0m\u001b[0;34m(\u001b[0m\u001b[0;34m*\u001b[0m\u001b[0mplot_args\u001b[0m\u001b[0;34m,\u001b[0m \u001b[0;34m**\u001b[0m\u001b[0mplot_kwargs\u001b[0m\u001b[0;34m)\u001b[0m\u001b[0;34m\u001b[0m\u001b[0;34m\u001b[0m\u001b[0m\n\u001b[0m\u001b[1;32m    839\u001b[0m \u001b[0;34m\u001b[0m\u001b[0m\n\u001b[1;32m    840\u001b[0m         \u001b[0;31m# Sort out the supporting information\u001b[0m\u001b[0;34m\u001b[0m\u001b[0;34m\u001b[0m\u001b[0;34m\u001b[0m\u001b[0m\n",
      "\u001b[0;32m~/Installs/anaconda3/lib/python3.7/site-packages/seaborn/regression.py\u001b[0m in \u001b[0;36mregplot\u001b[0;34m(x, y, data, x_estimator, x_bins, x_ci, scatter, fit_reg, ci, n_boot, units, order, logistic, lowess, robust, logx, x_partial, y_partial, truncate, dropna, x_jitter, y_jitter, label, color, marker, scatter_kws, line_kws, ax)\u001b[0m\n\u001b[1;32m    787\u001b[0m     \u001b[0mscatter_kws\u001b[0m\u001b[0;34m[\u001b[0m\u001b[0;34m\"marker\"\u001b[0m\u001b[0;34m]\u001b[0m \u001b[0;34m=\u001b[0m \u001b[0mmarker\u001b[0m\u001b[0;34m\u001b[0m\u001b[0;34m\u001b[0m\u001b[0m\n\u001b[1;32m    788\u001b[0m     \u001b[0mline_kws\u001b[0m \u001b[0;34m=\u001b[0m \u001b[0;34m{\u001b[0m\u001b[0;34m}\u001b[0m \u001b[0;32mif\u001b[0m \u001b[0mline_kws\u001b[0m \u001b[0;32mis\u001b[0m \u001b[0;32mNone\u001b[0m \u001b[0;32melse\u001b[0m \u001b[0mcopy\u001b[0m\u001b[0;34m.\u001b[0m\u001b[0mcopy\u001b[0m\u001b[0;34m(\u001b[0m\u001b[0mline_kws\u001b[0m\u001b[0;34m)\u001b[0m\u001b[0;34m\u001b[0m\u001b[0;34m\u001b[0m\u001b[0m\n\u001b[0;32m--> 789\u001b[0;31m     \u001b[0mplotter\u001b[0m\u001b[0;34m.\u001b[0m\u001b[0mplot\u001b[0m\u001b[0;34m(\u001b[0m\u001b[0max\u001b[0m\u001b[0;34m,\u001b[0m \u001b[0mscatter_kws\u001b[0m\u001b[0;34m,\u001b[0m \u001b[0mline_kws\u001b[0m\u001b[0;34m)\u001b[0m\u001b[0;34m\u001b[0m\u001b[0;34m\u001b[0m\u001b[0m\n\u001b[0m\u001b[1;32m    790\u001b[0m     \u001b[0;32mreturn\u001b[0m \u001b[0max\u001b[0m\u001b[0;34m\u001b[0m\u001b[0;34m\u001b[0m\u001b[0m\n\u001b[1;32m    791\u001b[0m \u001b[0;34m\u001b[0m\u001b[0m\n",
      "\u001b[0;32m~/Installs/anaconda3/lib/python3.7/site-packages/seaborn/regression.py\u001b[0m in \u001b[0;36mplot\u001b[0;34m(self, ax, scatter_kws, line_kws)\u001b[0m\n\u001b[1;32m    342\u001b[0m             \u001b[0mself\u001b[0m\u001b[0;34m.\u001b[0m\u001b[0mscatterplot\u001b[0m\u001b[0;34m(\u001b[0m\u001b[0max\u001b[0m\u001b[0;34m,\u001b[0m \u001b[0mscatter_kws\u001b[0m\u001b[0;34m)\u001b[0m\u001b[0;34m\u001b[0m\u001b[0;34m\u001b[0m\u001b[0m\n\u001b[1;32m    343\u001b[0m         \u001b[0;32mif\u001b[0m \u001b[0mself\u001b[0m\u001b[0;34m.\u001b[0m\u001b[0mfit_reg\u001b[0m\u001b[0;34m:\u001b[0m\u001b[0;34m\u001b[0m\u001b[0;34m\u001b[0m\u001b[0m\n\u001b[0;32m--> 344\u001b[0;31m             \u001b[0mself\u001b[0m\u001b[0;34m.\u001b[0m\u001b[0mlineplot\u001b[0m\u001b[0;34m(\u001b[0m\u001b[0max\u001b[0m\u001b[0;34m,\u001b[0m \u001b[0mline_kws\u001b[0m\u001b[0;34m)\u001b[0m\u001b[0;34m\u001b[0m\u001b[0;34m\u001b[0m\u001b[0m\n\u001b[0m\u001b[1;32m    345\u001b[0m \u001b[0;34m\u001b[0m\u001b[0m\n\u001b[1;32m    346\u001b[0m         \u001b[0;31m# Label the axes\u001b[0m\u001b[0;34m\u001b[0m\u001b[0;34m\u001b[0m\u001b[0;34m\u001b[0m\u001b[0m\n",
      "\u001b[0;32m~/Installs/anaconda3/lib/python3.7/site-packages/seaborn/regression.py\u001b[0m in \u001b[0;36mlineplot\u001b[0;34m(self, ax, kws)\u001b[0m\n\u001b[1;32m    387\u001b[0m \u001b[0;34m\u001b[0m\u001b[0m\n\u001b[1;32m    388\u001b[0m         \u001b[0;31m# Fit the regression model\u001b[0m\u001b[0;34m\u001b[0m\u001b[0;34m\u001b[0m\u001b[0;34m\u001b[0m\u001b[0m\n\u001b[0;32m--> 389\u001b[0;31m         \u001b[0mgrid\u001b[0m\u001b[0;34m,\u001b[0m \u001b[0myhat\u001b[0m\u001b[0;34m,\u001b[0m \u001b[0merr_bands\u001b[0m \u001b[0;34m=\u001b[0m \u001b[0mself\u001b[0m\u001b[0;34m.\u001b[0m\u001b[0mfit_regression\u001b[0m\u001b[0;34m(\u001b[0m\u001b[0max\u001b[0m\u001b[0;34m)\u001b[0m\u001b[0;34m\u001b[0m\u001b[0;34m\u001b[0m\u001b[0m\n\u001b[0m\u001b[1;32m    390\u001b[0m \u001b[0;34m\u001b[0m\u001b[0m\n\u001b[1;32m    391\u001b[0m         \u001b[0;31m# Get set default aesthetics\u001b[0m\u001b[0;34m\u001b[0m\u001b[0;34m\u001b[0m\u001b[0;34m\u001b[0m\u001b[0m\n",
      "\u001b[0;32m~/Installs/anaconda3/lib/python3.7/site-packages/seaborn/regression.py\u001b[0m in \u001b[0;36mfit_regression\u001b[0;34m(self, ax, x_range, grid)\u001b[0m\n\u001b[1;32m    206\u001b[0m             \u001b[0myhat\u001b[0m\u001b[0;34m,\u001b[0m \u001b[0myhat_boots\u001b[0m \u001b[0;34m=\u001b[0m \u001b[0mself\u001b[0m\u001b[0;34m.\u001b[0m\u001b[0mfit_logx\u001b[0m\u001b[0;34m(\u001b[0m\u001b[0mgrid\u001b[0m\u001b[0;34m)\u001b[0m\u001b[0;34m\u001b[0m\u001b[0;34m\u001b[0m\u001b[0m\n\u001b[1;32m    207\u001b[0m         \u001b[0;32melse\u001b[0m\u001b[0;34m:\u001b[0m\u001b[0;34m\u001b[0m\u001b[0;34m\u001b[0m\u001b[0m\n\u001b[0;32m--> 208\u001b[0;31m             \u001b[0myhat\u001b[0m\u001b[0;34m,\u001b[0m \u001b[0myhat_boots\u001b[0m \u001b[0;34m=\u001b[0m \u001b[0mself\u001b[0m\u001b[0;34m.\u001b[0m\u001b[0mfit_fast\u001b[0m\u001b[0;34m(\u001b[0m\u001b[0mgrid\u001b[0m\u001b[0;34m)\u001b[0m\u001b[0;34m\u001b[0m\u001b[0;34m\u001b[0m\u001b[0m\n\u001b[0m\u001b[1;32m    209\u001b[0m \u001b[0;34m\u001b[0m\u001b[0m\n\u001b[1;32m    210\u001b[0m         \u001b[0;31m# Compute the confidence interval at each grid point\u001b[0m\u001b[0;34m\u001b[0m\u001b[0;34m\u001b[0m\u001b[0;34m\u001b[0m\u001b[0m\n",
      "\u001b[0;32m~/Installs/anaconda3/lib/python3.7/site-packages/seaborn/regression.py\u001b[0m in \u001b[0;36mfit_fast\u001b[0;34m(self, grid)\u001b[0m\n\u001b[1;32m    223\u001b[0m         \u001b[0mX\u001b[0m\u001b[0;34m,\u001b[0m \u001b[0my\u001b[0m \u001b[0;34m=\u001b[0m \u001b[0mnp\u001b[0m\u001b[0;34m.\u001b[0m\u001b[0mc_\u001b[0m\u001b[0;34m[\u001b[0m\u001b[0mnp\u001b[0m\u001b[0;34m.\u001b[0m\u001b[0mones\u001b[0m\u001b[0;34m(\u001b[0m\u001b[0mlen\u001b[0m\u001b[0;34m(\u001b[0m\u001b[0mself\u001b[0m\u001b[0;34m.\u001b[0m\u001b[0mx\u001b[0m\u001b[0;34m)\u001b[0m\u001b[0;34m)\u001b[0m\u001b[0;34m,\u001b[0m \u001b[0mself\u001b[0m\u001b[0;34m.\u001b[0m\u001b[0mx\u001b[0m\u001b[0;34m]\u001b[0m\u001b[0;34m,\u001b[0m \u001b[0mself\u001b[0m\u001b[0;34m.\u001b[0m\u001b[0my\u001b[0m\u001b[0;34m\u001b[0m\u001b[0;34m\u001b[0m\u001b[0m\n\u001b[1;32m    224\u001b[0m         \u001b[0mgrid\u001b[0m \u001b[0;34m=\u001b[0m \u001b[0mnp\u001b[0m\u001b[0;34m.\u001b[0m\u001b[0mc_\u001b[0m\u001b[0;34m[\u001b[0m\u001b[0mnp\u001b[0m\u001b[0;34m.\u001b[0m\u001b[0mones\u001b[0m\u001b[0;34m(\u001b[0m\u001b[0mlen\u001b[0m\u001b[0;34m(\u001b[0m\u001b[0mgrid\u001b[0m\u001b[0;34m)\u001b[0m\u001b[0;34m)\u001b[0m\u001b[0;34m,\u001b[0m \u001b[0mgrid\u001b[0m\u001b[0;34m]\u001b[0m\u001b[0;34m\u001b[0m\u001b[0;34m\u001b[0m\u001b[0m\n\u001b[0;32m--> 225\u001b[0;31m         \u001b[0myhat\u001b[0m \u001b[0;34m=\u001b[0m \u001b[0mgrid\u001b[0m\u001b[0;34m.\u001b[0m\u001b[0mdot\u001b[0m\u001b[0;34m(\u001b[0m\u001b[0mreg_func\u001b[0m\u001b[0;34m(\u001b[0m\u001b[0mX\u001b[0m\u001b[0;34m,\u001b[0m \u001b[0my\u001b[0m\u001b[0;34m)\u001b[0m\u001b[0;34m)\u001b[0m\u001b[0;34m\u001b[0m\u001b[0;34m\u001b[0m\u001b[0m\n\u001b[0m\u001b[1;32m    226\u001b[0m         \u001b[0;32mif\u001b[0m \u001b[0mself\u001b[0m\u001b[0;34m.\u001b[0m\u001b[0mci\u001b[0m \u001b[0;32mis\u001b[0m \u001b[0;32mNone\u001b[0m\u001b[0;34m:\u001b[0m\u001b[0;34m\u001b[0m\u001b[0;34m\u001b[0m\u001b[0m\n\u001b[1;32m    227\u001b[0m             \u001b[0;32mreturn\u001b[0m \u001b[0myhat\u001b[0m\u001b[0;34m,\u001b[0m \u001b[0;32mNone\u001b[0m\u001b[0;34m\u001b[0m\u001b[0;34m\u001b[0m\u001b[0m\n",
      "\u001b[0;32m~/Installs/anaconda3/lib/python3.7/site-packages/seaborn/regression.py\u001b[0m in \u001b[0;36mreg_func\u001b[0;34m(_x, _y)\u001b[0m\n\u001b[1;32m    219\u001b[0m         \u001b[0;34m\"\"\"Low-level regression and prediction using linear algebra.\"\"\"\u001b[0m\u001b[0;34m\u001b[0m\u001b[0;34m\u001b[0m\u001b[0m\n\u001b[1;32m    220\u001b[0m         \u001b[0;32mdef\u001b[0m \u001b[0mreg_func\u001b[0m\u001b[0;34m(\u001b[0m\u001b[0m_x\u001b[0m\u001b[0;34m,\u001b[0m \u001b[0m_y\u001b[0m\u001b[0;34m)\u001b[0m\u001b[0;34m:\u001b[0m\u001b[0;34m\u001b[0m\u001b[0;34m\u001b[0m\u001b[0m\n\u001b[0;32m--> 221\u001b[0;31m             \u001b[0;32mreturn\u001b[0m \u001b[0mnp\u001b[0m\u001b[0;34m.\u001b[0m\u001b[0mlinalg\u001b[0m\u001b[0;34m.\u001b[0m\u001b[0mpinv\u001b[0m\u001b[0;34m(\u001b[0m\u001b[0m_x\u001b[0m\u001b[0;34m)\u001b[0m\u001b[0;34m.\u001b[0m\u001b[0mdot\u001b[0m\u001b[0;34m(\u001b[0m\u001b[0m_y\u001b[0m\u001b[0;34m)\u001b[0m\u001b[0;34m\u001b[0m\u001b[0;34m\u001b[0m\u001b[0m\n\u001b[0m\u001b[1;32m    222\u001b[0m \u001b[0;34m\u001b[0m\u001b[0m\n\u001b[1;32m    223\u001b[0m         \u001b[0mX\u001b[0m\u001b[0;34m,\u001b[0m \u001b[0my\u001b[0m \u001b[0;34m=\u001b[0m \u001b[0mnp\u001b[0m\u001b[0;34m.\u001b[0m\u001b[0mc_\u001b[0m\u001b[0;34m[\u001b[0m\u001b[0mnp\u001b[0m\u001b[0;34m.\u001b[0m\u001b[0mones\u001b[0m\u001b[0;34m(\u001b[0m\u001b[0mlen\u001b[0m\u001b[0;34m(\u001b[0m\u001b[0mself\u001b[0m\u001b[0;34m.\u001b[0m\u001b[0mx\u001b[0m\u001b[0;34m)\u001b[0m\u001b[0;34m)\u001b[0m\u001b[0;34m,\u001b[0m \u001b[0mself\u001b[0m\u001b[0;34m.\u001b[0m\u001b[0mx\u001b[0m\u001b[0;34m]\u001b[0m\u001b[0;34m,\u001b[0m \u001b[0mself\u001b[0m\u001b[0;34m.\u001b[0m\u001b[0my\u001b[0m\u001b[0;34m\u001b[0m\u001b[0;34m\u001b[0m\u001b[0m\n",
      "\u001b[0;32m~/Installs/anaconda3/lib/python3.7/site-packages/numpy/linalg/linalg.py\u001b[0m in \u001b[0;36mpinv\u001b[0;34m(a, rcond)\u001b[0m\n\u001b[1;32m   1869\u001b[0m         \u001b[0mres\u001b[0m \u001b[0;34m=\u001b[0m \u001b[0mempty\u001b[0m\u001b[0;34m(\u001b[0m\u001b[0ma\u001b[0m\u001b[0;34m.\u001b[0m\u001b[0mshape\u001b[0m\u001b[0;34m[\u001b[0m\u001b[0;34m:\u001b[0m\u001b[0;34m-\u001b[0m\u001b[0;36m2\u001b[0m\u001b[0;34m]\u001b[0m \u001b[0;34m+\u001b[0m \u001b[0;34m(\u001b[0m\u001b[0mn\u001b[0m\u001b[0;34m,\u001b[0m \u001b[0mm\u001b[0m\u001b[0;34m)\u001b[0m\u001b[0;34m,\u001b[0m \u001b[0mdtype\u001b[0m\u001b[0;34m=\u001b[0m\u001b[0ma\u001b[0m\u001b[0;34m.\u001b[0m\u001b[0mdtype\u001b[0m\u001b[0;34m)\u001b[0m\u001b[0;34m\u001b[0m\u001b[0;34m\u001b[0m\u001b[0m\n\u001b[1;32m   1870\u001b[0m         \u001b[0;32mreturn\u001b[0m \u001b[0mwrap\u001b[0m\u001b[0;34m(\u001b[0m\u001b[0mres\u001b[0m\u001b[0;34m)\u001b[0m\u001b[0;34m\u001b[0m\u001b[0;34m\u001b[0m\u001b[0m\n\u001b[0;32m-> 1871\u001b[0;31m     \u001b[0ma\u001b[0m \u001b[0;34m=\u001b[0m \u001b[0ma\u001b[0m\u001b[0;34m.\u001b[0m\u001b[0mconjugate\u001b[0m\u001b[0;34m(\u001b[0m\u001b[0;34m)\u001b[0m\u001b[0;34m\u001b[0m\u001b[0;34m\u001b[0m\u001b[0m\n\u001b[0m\u001b[1;32m   1872\u001b[0m     \u001b[0mu\u001b[0m\u001b[0;34m,\u001b[0m \u001b[0ms\u001b[0m\u001b[0;34m,\u001b[0m \u001b[0mvt\u001b[0m \u001b[0;34m=\u001b[0m \u001b[0msvd\u001b[0m\u001b[0;34m(\u001b[0m\u001b[0ma\u001b[0m\u001b[0;34m,\u001b[0m \u001b[0mfull_matrices\u001b[0m\u001b[0;34m=\u001b[0m\u001b[0;32mFalse\u001b[0m\u001b[0;34m)\u001b[0m\u001b[0;34m\u001b[0m\u001b[0;34m\u001b[0m\u001b[0m\n\u001b[1;32m   1873\u001b[0m \u001b[0;34m\u001b[0m\u001b[0m\n",
      "\u001b[0;31mAttributeError\u001b[0m: 'str' object has no attribute 'conjugate'"
     ]
    }
   ],
   "source": [
    "sns.lmplot(x='BAT RA (J2000)', y='Detection', data=df)"
   ]
  },
  {
   "cell_type": "code",
   "execution_count": null,
   "metadata": {},
   "outputs": [],
   "source": []
  }
 ],
 "metadata": {
  "kernelspec": {
   "display_name": "Python 3",
   "language": "python",
   "name": "python3"
  },
  "language_info": {
   "codemirror_mode": {
    "name": "ipython",
    "version": 3
   },
   "file_extension": ".py",
   "mimetype": "text/x-python",
   "name": "python",
   "nbconvert_exporter": "python",
   "pygments_lexer": "ipython3",
   "version": "3.7.1"
  }
 },
 "nbformat": 4,
 "nbformat_minor": 2
}
