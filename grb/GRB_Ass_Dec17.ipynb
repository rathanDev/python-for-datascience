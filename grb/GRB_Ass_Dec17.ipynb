{
 "cells": [
  {
   "cell_type": "code",
   "execution_count": 1,
   "metadata": {},
   "outputs": [],
   "source": [
    "import matplotlib.pyplot as plt"
   ]
  },
  {
   "cell_type": "code",
   "execution_count": 3,
   "metadata": {},
   "outputs": [],
   "source": [
    "%matplotlib inline"
   ]
  },
  {
   "cell_type": "code",
   "execution_count": 5,
   "metadata": {},
   "outputs": [],
   "source": [
    "import numpy as np"
   ]
  },
  {
   "cell_type": "code",
   "execution_count": 8,
   "metadata": {},
   "outputs": [],
   "source": [
    "import pandas as pd"
   ]
  },
  {
   "cell_type": "code",
   "execution_count": 4,
   "metadata": {},
   "outputs": [],
   "source": [
    "x = np.linspace(0,5,11)"
   ]
  },
  {
   "cell_type": "code",
   "execution_count": 5,
   "metadata": {},
   "outputs": [],
   "source": [
    "y = x ** 2"
   ]
  },
  {
   "cell_type": "code",
   "execution_count": 6,
   "metadata": {},
   "outputs": [
    {
     "data": {
      "text/plain": [
       "[<matplotlib.lines.Line2D at 0x115248a58>]"
      ]
     },
     "execution_count": 6,
     "metadata": {},
     "output_type": "execute_result"
    },
    {
     "data": {
      "image/png": "[encoded data removed]",
      "text/plain": [
       "<Figure size 432x288 with 1 Axes>"
      ]
     },
     "metadata": {
      "needs_background": "light"
     },
     "output_type": "display_data"
    }
   ],
   "source": [
    "plt.plot(x,y)\n"
   ]
  },
  {
   "cell_type": "code",
   "execution_count": 11,
   "metadata": {},
   "outputs": [
    {
     "data": {
      "text/html": [
       "<div>\n",
       "<style scoped>\n",
       "    .dataframe tbody tr th:only-of-type {\n",
       "        vertical-align: middle;\n",
       "    }\n",
       "\n",
       "    .dataframe tbody tr th {\n",
       "        vertical-align: top;\n",
       "    }\n",
       "\n",
       "    .dataframe thead th {\n",
       "        text-align: right;\n",
       "    }\n",
       "</style>\n",
       "<table border=\"1\" class=\"dataframe\">\n",
       "  <thead>\n",
       "    <tr style=\"text-align: right;\">\n",
       "      <th></th>\n",
       "      <th>GRB</th>\n",
       "      <th>Swift Trigger Number</th>\n",
       "      <th>BAT RA (J2000)</th>\n",
       "      <th>BAT Dec (J2000)</th>\n",
       "      <th>BAT T90</th>\n",
       "      <th>BAT Fluence (15-150 keV)</th>\n",
       "      <th>BAT Photon Index (15-150 keV) (PL = simple power-law)</th>\n",
       "      <th>Swift Comments</th>\n",
       "      <th>Redshift</th>\n",
       "      <th>Host Galaxy</th>\n",
       "    </tr>\n",
       "  </thead>\n",
       "  <tbody>\n",
       "    <tr>\n",
       "      <th>0</th>\n",
       "      <td>180905A</td>\n",
       "      <td>859421</td>\n",
       "      <td>91.038</td>\n",
       "      <td>-4.592</td>\n",
       "      <td>165.3</td>\n",
       "      <td>42.0</td>\n",
       "      <td>1.6</td>\n",
       "      <td>-</td>\n",
       "      <td>-</td>\n",
       "      <td>-</td>\n",
       "    </tr>\n",
       "    <tr>\n",
       "      <th>1</th>\n",
       "      <td>180904A</td>\n",
       "      <td>859282</td>\n",
       "      <td>274.26</td>\n",
       "      <td>46.64</td>\n",
       "      <td>5.4</td>\n",
       "      <td>2.4</td>\n",
       "      <td>1.02</td>\n",
       "      <td>UVOT: no detection</td>\n",
       "      <td>-</td>\n",
       "      <td>-</td>\n",
       "    </tr>\n",
       "  </tbody>\n",
       "</table>\n",
       "</div>"
      ],
      "text/plain": [
       "       GRB Swift Trigger Number BAT RA (J2000) BAT Dec (J2000) BAT T90  \\\n",
       "0  180905A               859421         91.038          -4.592   165.3   \n",
       "1  180904A               859282         274.26           46.64     5.4   \n",
       "\n",
       "  BAT Fluence (15-150 keV)  \\\n",
       "0                     42.0   \n",
       "1                      2.4   \n",
       "\n",
       "  BAT Photon Index (15-150 keV) (PL = simple power-law)      Swift Comments  \\\n",
       "0                                                1.6                      -   \n",
       "1                                               1.02     UVOT: no detection   \n",
       "\n",
       "  Redshift Host Galaxy  \n",
       "0        -           -  \n",
       "1        -           -  "
      ]
     },
     "execution_count": 11,
     "metadata": {},
     "output_type": "execute_result"
    }
   ],
   "source": [
    "csv = pd.read_csv('grb_data.csv')\n",
    "csv.head(2)"
   ]
  },
  {
   "cell_type": "code",
   "execution_count": 13,
   "metadata": {},
   "outputs": [
    {
     "name": "stdout",
     "output_type": "stream",
     "text": [
      "<class 'pandas.core.frame.DataFrame'>\n",
      "RangeIndex: 1352 entries, 0 to 1351\n",
      "Data columns (total 10 columns):\n",
      "GRB                                                      1352 non-null object\n",
      "Swift Trigger Number                                     1352 non-null object\n",
      "BAT RA (J2000)                                           1352 non-null object\n",
      "BAT Dec (J2000)                                          1352 non-null object\n",
      "BAT T90                                                  1352 non-null object\n",
      "BAT Fluence (15-150 keV)                                 1352 non-null object\n",
      "BAT Photon Index (15-150 keV) (PL = simple power-law)    1352 non-null object\n",
      "Swift Comments                                           1352 non-null object\n",
      "Redshift                                                 1352 non-null object\n",
      "Host Galaxy                                              1351 non-null object\n",
      "dtypes: object(10)\n",
      "memory usage: 105.7+ KB\n"
     ]
    }
   ],
   "source": [
    "csv.info()"
   ]
  },
  {
   "cell_type": "code",
   "execution_count": 22,
   "metadata": {},
   "outputs": [],
   "source": [
    "stn = csv.head(50)['Swift Trigger Number']"
   ]
  },
  {
   "cell_type": "code",
   "execution_count": 23,
   "metadata": {},
   "outputs": [],
   "source": [
    "bf = csv.head(50)['BAT Fluence (15-150 keV)']"
   ]
  },
  {
   "cell_type": "code",
   "execution_count": 26,
   "metadata": {},
   "outputs": [
    {
     "data": {
      "image/png": "[encoded data removed]",
      "text/plain": [
       "<Figure size 432x288 with 1 Axes>"
      ]
     },
     "metadata": {
      "needs_background": "light"
     },
     "output_type": "display_data"
    }
   ],
   "source": [
    "plt.plot(stn, bf)\n",
    "plt.plot(x,y)\n",
    "\n",
    "plt.tight_layout()"
   ]
  },
  {
   "cell_type": "code",
   "execution_count": null,
   "metadata": {},
   "outputs": [],
   "source": []
  },
  {
   "cell_type": "code",
   "execution_count": null,
   "metadata": {},
   "outputs": [],
   "source": []
  },
  {
   "cell_type": "code",
   "execution_count": null,
   "metadata": {},
   "outputs": [],
   "source": []
  }
 ],
 "metadata": {
  "kernelspec": {
   "display_name": "Python 3",
   "language": "python",
   "name": "python3"
  },
  "language_info": {
   "codemirror_mode": {
    "name": "ipython",
    "version": 3
   },
   "file_extension": ".py",
   "mimetype": "text/x-python",
   "name": "python",
   "nbconvert_exporter": "python",
   "pygments_lexer": "ipython3",
   "version": "3.7.1"
  }
 },
 "nbformat": 4,
 "nbformat_minor": 2
}
